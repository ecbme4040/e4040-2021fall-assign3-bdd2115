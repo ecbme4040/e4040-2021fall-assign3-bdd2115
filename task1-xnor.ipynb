{
 "cells": [
  {
   "cell_type": "markdown",
   "metadata": {},
   "source": [
    "## Columbia University\n",
    "### ECBM E4040 Neural Networks and Deep Learning. Fall 2021."
   ]
  },
  {
   "cell_type": "markdown",
   "metadata": {},
   "source": [
    "# Task 1: XNOR"
   ]
  },
  {
   "cell_type": "code",
   "execution_count": 55,
   "metadata": {},
   "outputs": [
    {
     "name": "stdout",
     "output_type": "stream",
     "text": [
      "The autoreload extension is already loaded. To reload it, use:\n",
      "  %reload_ext autoreload\n",
      "2.7.0\n"
     ]
    }
   ],
   "source": [
    "# Import modules\n",
    "from __future__ import print_function\n",
    "import tensorflow as tf\n",
    "\n",
    "physical_devices = tf.config.list_physical_devices('GPU')\n",
    "tf.config.experimental.set_memory_growth(physical_devices[0], enable=True)\n",
    "\n",
    "import numpy as np\n",
    "from numpy.random import shuffle\n",
    "import time\n",
    "import matplotlib.pyplot as plt\n",
    "\n",
    "# Plot configurations\n",
    "%matplotlib inline\n",
    "\n",
    "# Notebook auto reloads code. (Ref: http://stackoverflow.com/questions/1907993/autoreload-of-modules-in-ipython)\n",
    "%load_ext autoreload\n",
    "%autoreload 2\n",
    "print(tf.__version__)"
   ]
  },
  {
   "cell_type": "code",
   "execution_count": 71,
   "metadata": {},
   "outputs": [],
   "source": [
    "plt.style.use(\"seaborn-bright\")"
   ]
  },
  {
   "cell_type": "markdown",
   "metadata": {},
   "source": [
    "##  Part 1: Backpropagation through time (BPTT)"
   ]
  },
  {
   "cell_type": "markdown",
   "metadata": {},
   "source": [
    "**Question:** Consider a simple RNN network shown in the following figure, where _wx, wh, b1, w, b2_ are the scalar parameters of the network. The loss function is the **mean squared error (MSE)**. Given input _(x1, x2) = (-1, 2)_, ground truth _(g1, g2) = (0, 1), h0 = 0, and (wx, wh, b1, w, b2) = (3, 1, 2, -1, 1)_, **compute _(dwx, dwh, db1, dw, db2)_**, which are the gradients of loss with repect to 5 parameters _(wx, wh, b1, w, b2)_.\n",
    "\n",
    "![bptt](./img/bptt2.jpg)"
   ]
  },
  {
   "cell_type": "markdown",
   "metadata": {},
   "source": [
    "<span style=\"color:red\">TODO:</span>\n",
    "\n",
    "Answer the above question. \n",
    "\n",
    "* Show all of your derivations and the computational process.\n",
    "* Use LATEX to edit the equations (Jupyter notebook can recognize the basic LATEX syntax). Alternatively, you can edit equations in some other environment and then paste the screenshot of the equations here."
   ]
  },
  {
   "cell_type": "markdown",
   "metadata": {},
   "source": [
    "<span style=\"color:red\">Solution:</span>\n",
    "\n",
    "**[fill in here: Enter your derivations and the computational process]**"
   ]
  },
  {
   "cell_type": "code",
   "execution_count": 2,
   "metadata": {},
   "outputs": [
    {
     "name": "stdout",
     "output_type": "stream",
     "text": [
      "Verified by tensorflow (TODO compare values with your hand-written calculations):\n",
      "dw = -0.0851, db2 = 0.0231, dwx = 0.0292, dwh = 0.0000, db1 = -0.0291\n"
     ]
    }
   ],
   "source": [
    "# use tensorflow to verify the answer.\n",
    "with tf.GradientTape() as G:\n",
    "    w = tf.Variable(-1.0)\n",
    "    b2 = tf.Variable(1.0)\n",
    "    wx = tf.Variable(3.0)\n",
    "    wh = tf.Variable(1.0)\n",
    "    b1 = tf.Variable(2.0)\n",
    "\n",
    "    h0 = tf.Variable(0.0)\n",
    "    x = tf.Variable((-1.0,2.0))\n",
    "    g = tf.Variable((0.0, 1.0))\n",
    "\n",
    "    y = []\n",
    "    h1 = tf.sigmoid(wx*x[0] + wh*h0 + b1)\n",
    "    y.append(tf.sigmoid(w*h1 + b2))\n",
    "    h2 = tf.sigmoid(wx*x[1] + wh*h1 + b1)\n",
    "    y.append(tf.sigmoid(w*h2 + b2))\n",
    "\n",
    "    loss = 0.5*(tf.square(g[0]-y[0]) + tf.square(g[1]-y[1]))\n",
    "\n",
    "    dw_t, db2_t, dwx_t, dwh_t, db1_t = G.gradient(loss, [w, b2, wx, wh, b1])\n",
    "    \n",
    "\n",
    "print(\"Verified by tensorflow (TODO compare values with your hand-written calculations):\")\n",
    "print(\"dw = {:.4f}, db2 = {:.4f}, dwx = {:.4f}, dwh = {:.4f}, db1 = {:.4f}\".format(dw_t, db2_t, dwx_t, dwh_t, db1_t))"
   ]
  },
  {
   "cell_type": "markdown",
   "metadata": {},
   "source": [
    "## Part 2: Use TensorFlow modules to create XNOR network\n",
    "\n",
    "In this part, you need to build and train an XNOR network that can learn the XNOR function. It is a very simple implementation of RNN and will give you an idea how RNN is built and how to train it."
   ]
  },
  {
   "cell_type": "markdown",
   "metadata": {},
   "source": [
    "### XNOR network\n",
    "\n",
    "XNOR network can learn the XNOR ($\\odot$) function\n",
    "\n",
    "As shown in the figure below, and for instance, if input $(x_0, x_1, x_2, x_3, x_4, x_5, x_6, x_7)$=(0,0,1,1,1,1,1,0), then output $(y_1, y_2, y_3, y_4, y_5, y_6, y_7, y_8)$=(1,1,0,1,0,1,0,0). That is, $y_n = x_0\\odot x_1 \\odot ... \\odot x_{n-1}\\odot x_{n}$\n",
    "\n",
    "![xnor_net](./img/xnor.png)"
   ]
  },
  {
   "cell_type": "markdown",
   "metadata": {},
   "source": [
    "### Create a data set\n",
    "This function provides a way to generate the data which is needed for the training process. You should utilize it when building your training function for the GRU. Read the source code for more information."
   ]
  },
  {
   "cell_type": "code",
   "execution_count": 56,
   "metadata": {},
   "outputs": [],
   "source": [
    "from utils.xnor.dataset import create_xnor_dataset"
   ]
  },
  {
   "cell_type": "code",
   "execution_count": 57,
   "metadata": {},
   "outputs": [
    {
     "data": {
      "text/plain": [
       "(array([[[0],\n",
       "         [0],\n",
       "         [1],\n",
       "         [1],\n",
       "         [1],\n",
       "         [0],\n",
       "         [0],\n",
       "         [0]]]),\n",
       " array([[0, 0, 1, 0, 1, 1, 1, 1]]))"
      ]
     },
     "execution_count": 57,
     "metadata": {},
     "output_type": "execute_result"
    }
   ],
   "source": [
    "create_xnor_dataset(1)"
   ]
  },
  {
   "cell_type": "markdown",
   "metadata": {},
   "source": [
    "### Build a network using a TensorFlow LSTMCell and GRUCell\n",
    "In this section, you are asked to build a XNOR net using a TensorFlow LSTMCell and a GRUCell. In TensorFlow 2, these two cells are supported by Keras. Please check online documents below.\n",
    "\n",
    "Reference: \n",
    "1. [TensorFlow(Keras): Working with RNNs](https://keras.io/guides/working_with_rnns/)\n",
    "2. [TensorFlow: Recurrent Neural Networks (RNN) with Keras](https://www.tensorflow.org/guide/keras/rnn)\n",
    "3. [TensorFlow LSTM cell](https://www.tensorflow.org/api_docs/python/tf/keras/layers/LSTM)\n",
    "4. [TensorFlow GRU cell](https://www.tensorflow.org/api_docs/python/tf/keras/layers/GRU)\n",
    "5. [TensorFlow: Sequential Model](https://www.tensorflow.org/guide/keras/sequential_model)\n"
   ]
  },
  {
   "cell_type": "markdown",
   "metadata": {},
   "source": [
    "<span style=\"color:red\">TODO:</span>\n",
    "Use TensorFlow to build and train your XNOR net. The dataset is already provided. You will do the following:\n",
    "- Learn how to use **tf.keras.layers.LSTM** and **tf.keras.layers.GRU** in TensorFlow(Keras). \n",
    "- Choose appropriate parameters to build a model (Sequential Model in Keras is suggested). \n",
    "- Compile your model with appropriate loss function, optimizer, metrics, etc.\n",
    "- Train your model and see the loss history.\n",
    "\n",
    "Tips: \n",
    "1. Make sure that the shape of your data is corrrect after every step.\n",
    "2. Choose your loss function according to your network design.\n",
    "3. Choose 'accuracy' as your metrics when compiling your model.\n",
    "4. Make sure that names of history for the network with LSTMCell and GRUCell (which you used while training) are the same as the ones in the plotting functions.\n",
    "4. Feel free to ask TAs if you get stuck somewhere."
   ]
  },
  {
   "cell_type": "markdown",
   "metadata": {},
   "source": [
    "### Build a network with LSTM cell"
   ]
  },
  {
   "cell_type": "code",
   "execution_count": 58,
   "metadata": {
    "pycharm": {
     "is_executing": true
    }
   },
   "outputs": [],
   "source": [
    "in_data, out_data = create_xnor_dataset(1000) # create a dataset with a batch size of 1000"
   ]
  },
  {
   "cell_type": "code",
   "execution_count": 59,
   "metadata": {
    "pycharm": {
     "is_executing": true
    }
   },
   "outputs": [
    {
     "name": "stdout",
     "output_type": "stream",
     "text": [
      "Model: \"sequential_28\"\n",
      "_________________________________________________________________\n",
      " Layer (type)                Output Shape              Param #   \n",
      "=================================================================\n",
      " lstm_22 (LSTM)              (None, 8, 128)            66560     \n",
      "                                                                 \n",
      " dense_48 (Dense)            (None, 8, 64)             8256      \n",
      "                                                                 \n",
      " dense_49 (Dense)            (None, 8, 1)              65        \n",
      "                                                                 \n",
      "=================================================================\n",
      "Total params: 74,881\n",
      "Trainable params: 74,881\n",
      "Non-trainable params: 0\n",
      "_________________________________________________________________\n",
      "Epoch 1/70\n",
      "16/16 [==============================] - 2s 10ms/step - loss: 0.6917 - accuracy: 0.5567\n",
      "Epoch 2/70\n",
      "16/16 [==============================] - 0s 10ms/step - loss: 0.6894 - accuracy: 0.5707\n",
      "Epoch 3/70\n",
      "16/16 [==============================] - 0s 10ms/step - loss: 0.6851 - accuracy: 0.5829\n",
      "Epoch 4/70\n",
      "16/16 [==============================] - 0s 10ms/step - loss: 0.6788 - accuracy: 0.5828\n",
      "Epoch 5/70\n",
      "16/16 [==============================] - 0s 10ms/step - loss: 0.6686 - accuracy: 0.5840\n",
      "Epoch 6/70\n",
      "16/16 [==============================] - 0s 9ms/step - loss: 0.6551 - accuracy: 0.5822\n",
      "Epoch 7/70\n",
      "16/16 [==============================] - 0s 9ms/step - loss: 0.6440 - accuracy: 0.5825\n",
      "Epoch 8/70\n",
      "16/16 [==============================] - 0s 10ms/step - loss: 0.6320 - accuracy: 0.5806\n",
      "Epoch 9/70\n",
      "16/16 [==============================] - 0s 11ms/step - loss: 0.6353 - accuracy: 0.5965\n",
      "Epoch 10/70\n",
      "16/16 [==============================] - 0s 9ms/step - loss: 0.6192 - accuracy: 0.6326\n",
      "Epoch 11/70\n",
      "16/16 [==============================] - 0s 10ms/step - loss: 0.6065 - accuracy: 0.6423\n",
      "Epoch 12/70\n",
      "16/16 [==============================] - 0s 10ms/step - loss: 0.6017 - accuracy: 0.6475\n",
      "Epoch 13/70\n",
      "16/16 [==============================] - 0s 10ms/step - loss: 0.5866 - accuracy: 0.6594\n",
      "Epoch 14/70\n",
      "16/16 [==============================] - 0s 9ms/step - loss: 0.5694 - accuracy: 0.6851\n",
      "Epoch 15/70\n",
      "16/16 [==============================] - 0s 10ms/step - loss: 0.5584 - accuracy: 0.6990\n",
      "Epoch 16/70\n",
      "16/16 [==============================] - 0s 9ms/step - loss: 0.5624 - accuracy: 0.6874\n",
      "Epoch 17/70\n",
      "16/16 [==============================] - 0s 9ms/step - loss: 0.5541 - accuracy: 0.6935\n",
      "Epoch 18/70\n",
      "16/16 [==============================] - 0s 9ms/step - loss: 0.5527 - accuracy: 0.6996\n",
      "Epoch 19/70\n",
      "16/16 [==============================] - 0s 10ms/step - loss: 0.5454 - accuracy: 0.6966\n",
      "Epoch 20/70\n",
      "16/16 [==============================] - 0s 10ms/step - loss: 0.5242 - accuracy: 0.7169\n",
      "Epoch 21/70\n",
      "16/16 [==============================] - 0s 10ms/step - loss: 0.5398 - accuracy: 0.7014\n",
      "Epoch 22/70\n",
      "16/16 [==============================] - 0s 10ms/step - loss: 0.5335 - accuracy: 0.6998\n",
      "Epoch 23/70\n",
      "16/16 [==============================] - 0s 10ms/step - loss: 0.5294 - accuracy: 0.6981\n",
      "Epoch 24/70\n",
      "16/16 [==============================] - 0s 10ms/step - loss: 0.5106 - accuracy: 0.7155\n",
      "Epoch 25/70\n",
      "16/16 [==============================] - 0s 9ms/step - loss: 0.4853 - accuracy: 0.7433\n",
      "Epoch 26/70\n",
      "16/16 [==============================] - 0s 14ms/step - loss: 0.4858 - accuracy: 0.7265\n",
      "Epoch 27/70\n",
      "16/16 [==============================] - 0s 10ms/step - loss: 0.4962 - accuracy: 0.7097\n",
      "Epoch 28/70\n",
      "16/16 [==============================] - 0s 10ms/step - loss: 0.4527 - accuracy: 0.7379\n",
      "Epoch 29/70\n",
      "16/16 [==============================] - 0s 10ms/step - loss: 0.4359 - accuracy: 0.7717\n",
      "Epoch 30/70\n",
      "16/16 [==============================] - 0s 10ms/step - loss: 0.4372 - accuracy: 0.7538\n",
      "Epoch 31/70\n",
      "16/16 [==============================] - 0s 10ms/step - loss: 0.4201 - accuracy: 0.7822\n",
      "Epoch 32/70\n",
      "16/16 [==============================] - 0s 10ms/step - loss: 0.3887 - accuracy: 0.7955\n",
      "Epoch 33/70\n",
      "16/16 [==============================] - 0s 10ms/step - loss: 0.3794 - accuracy: 0.8134\n",
      "Epoch 34/70\n",
      "16/16 [==============================] - 0s 9ms/step - loss: 0.3694 - accuracy: 0.8188\n",
      "Epoch 35/70\n",
      "16/16 [==============================] - 0s 10ms/step - loss: 0.3613 - accuracy: 0.8264\n",
      "Epoch 36/70\n",
      "16/16 [==============================] - 0s 9ms/step - loss: 0.3388 - accuracy: 0.8307\n",
      "Epoch 37/70\n",
      "16/16 [==============================] - 0s 9ms/step - loss: 0.3298 - accuracy: 0.8403\n",
      "Epoch 38/70\n",
      "16/16 [==============================] - 0s 10ms/step - loss: 0.3319 - accuracy: 0.8424\n",
      "Epoch 39/70\n",
      "16/16 [==============================] - 0s 10ms/step - loss: 0.3243 - accuracy: 0.8539\n",
      "Epoch 40/70\n",
      "16/16 [==============================] - 0s 10ms/step - loss: 0.3131 - accuracy: 0.8575\n",
      "Epoch 41/70\n",
      "16/16 [==============================] - 0s 9ms/step - loss: 0.2902 - accuracy: 0.8694\n",
      "Epoch 42/70\n",
      "16/16 [==============================] - 0s 9ms/step - loss: 0.2660 - accuracy: 0.8920\n",
      "Epoch 43/70\n",
      "16/16 [==============================] - 0s 9ms/step - loss: 0.2484 - accuracy: 0.8947\n",
      "Epoch 44/70\n",
      "16/16 [==============================] - 0s 10ms/step - loss: 0.2566 - accuracy: 0.8832\n",
      "Epoch 45/70\n",
      "16/16 [==============================] - 0s 11ms/step - loss: 0.2313 - accuracy: 0.9021\n",
      "Epoch 46/70\n",
      "16/16 [==============================] - 0s 11ms/step - loss: 0.2464 - accuracy: 0.8966\n",
      "Epoch 47/70\n",
      "16/16 [==============================] - 0s 10ms/step - loss: 0.2238 - accuracy: 0.9045\n",
      "Epoch 48/70\n",
      "16/16 [==============================] - 0s 10ms/step - loss: 0.2159 - accuracy: 0.9133\n",
      "Epoch 49/70\n",
      "16/16 [==============================] - 0s 10ms/step - loss: 0.2439 - accuracy: 0.9093\n",
      "Epoch 50/70\n",
      "16/16 [==============================] - 0s 11ms/step - loss: 0.2138 - accuracy: 0.9168\n",
      "Epoch 51/70\n",
      "16/16 [==============================] - 0s 10ms/step - loss: 0.2374 - accuracy: 0.9094\n",
      "Epoch 52/70\n",
      "16/16 [==============================] - 0s 10ms/step - loss: 0.2241 - accuracy: 0.9190\n",
      "Epoch 53/70\n",
      "16/16 [==============================] - 0s 9ms/step - loss: 0.2167 - accuracy: 0.9199\n",
      "Epoch 54/70\n",
      "16/16 [==============================] - 0s 10ms/step - loss: 0.1761 - accuracy: 0.9349\n",
      "Epoch 55/70\n",
      "16/16 [==============================] - 0s 10ms/step - loss: 0.1945 - accuracy: 0.9304\n",
      "Epoch 56/70\n",
      "16/16 [==============================] - 0s 10ms/step - loss: 0.1783 - accuracy: 0.9336\n",
      "Epoch 57/70\n",
      "16/16 [==============================] - 0s 10ms/step - loss: 0.1915 - accuracy: 0.9350\n",
      "Epoch 58/70\n",
      "16/16 [==============================] - 0s 9ms/step - loss: 0.1924 - accuracy: 0.9308\n",
      "Epoch 59/70\n",
      "16/16 [==============================] - 0s 9ms/step - loss: 0.1731 - accuracy: 0.9395\n",
      "Epoch 60/70\n",
      "16/16 [==============================] - 0s 10ms/step - loss: 0.1999 - accuracy: 0.9324\n",
      "Epoch 61/70\n",
      "16/16 [==============================] - 0s 9ms/step - loss: 0.1706 - accuracy: 0.9445\n",
      "Epoch 62/70\n",
      "16/16 [==============================] - 0s 10ms/step - loss: 0.1712 - accuracy: 0.9423\n",
      "Epoch 63/70\n",
      "16/16 [==============================] - 0s 10ms/step - loss: 0.1532 - accuracy: 0.9505\n",
      "Epoch 64/70\n",
      "16/16 [==============================] - 0s 10ms/step - loss: 0.1468 - accuracy: 0.9489\n",
      "Epoch 65/70\n",
      "16/16 [==============================] - 0s 10ms/step - loss: 0.1545 - accuracy: 0.9464\n",
      "Epoch 66/70\n",
      "16/16 [==============================] - 0s 9ms/step - loss: 0.1753 - accuracy: 0.9402\n",
      "Epoch 67/70\n",
      "16/16 [==============================] - 0s 10ms/step - loss: 0.1568 - accuracy: 0.9530\n",
      "Epoch 68/70\n",
      "16/16 [==============================] - 0s 10ms/step - loss: 0.1578 - accuracy: 0.9529\n",
      "Epoch 69/70\n",
      "16/16 [==============================] - 0s 10ms/step - loss: 0.1432 - accuracy: 0.9579\n",
      "Epoch 70/70\n",
      "16/16 [==============================] - 0s 10ms/step - loss: 0.1522 - accuracy: 0.9530\n"
     ]
    }
   ],
   "source": [
    "###################################################\n",
    "# TODO: build a network with LSTM cell and train it.#\n",
    "#                                                 #\n",
    "###################################################\n",
    "\n",
    "model = tf.keras.Sequential()\n",
    "model.add(tf.keras.layers.LSTM(128, input_shape=(8, 1), activation='relu', return_sequences=True, dropout=0.2, recurrent_dropout=0.2))\n",
    "model.add(tf.keras.layers.Dense(64))\n",
    "model.add(tf.keras.layers.Dense(1, activation=\"sigmoid\"))\n",
    "\n",
    "model.summary()\n",
    "model.compile(loss=tf.keras.losses.BinaryCrossentropy(),\n",
    "              optimizer='adam',\n",
    "              metrics=['accuracy'])\n",
    "history_LSTM = model.fit(in_data, out_data, batch_size=64, epochs=70)\n",
    "\n",
    "###################################################\n",
    "# END TODO                                        #\n",
    "###################################################"
   ]
  },
  {
   "cell_type": "markdown",
   "metadata": {},
   "source": [
    "#### Hint for creating a model with LSTM cells\n",
    "```\n",
    "model = tf.keras.Sequential() \n",
    "model.add(# insert layer 1)\n",
    "model.add(# insert layer 2) \n",
    "model.add(# insert more layers) \n",
    "model.add(# insert output layer)\n",
    "\n",
    "model.summary() \n",
    "model.compile(loss=#choose your loss function,\n",
    "              optimizer=#choose your optimizer with learning rate,\n",
    "              metrics=['accuracy']) \n",
    "history_LSTM = model.fit(in_data, out_data, batch_size=64, epochs=15) \n",
    "```"
   ]
  },
  {
   "cell_type": "markdown",
   "metadata": {},
   "source": [
    "### Build a network with GRU cell"
   ]
  },
  {
   "cell_type": "code",
   "execution_count": 60,
   "metadata": {},
   "outputs": [],
   "source": [
    "in_data, out_data = create_xnor_dataset(1000) # create a dataset with batch size of 1000"
   ]
  },
  {
   "cell_type": "code",
   "execution_count": 61,
   "metadata": {},
   "outputs": [
    {
     "name": "stdout",
     "output_type": "stream",
     "text": [
      "Model: \"sequential_29\"\n",
      "_________________________________________________________________\n",
      " Layer (type)                Output Shape              Param #   \n",
      "=================================================================\n",
      " gru_6 (GRU)                 (None, 8, 128)            50304     \n",
      "                                                                 \n",
      " dense_50 (Dense)            (None, 8, 64)             8256      \n",
      "                                                                 \n",
      " dense_51 (Dense)            (None, 8, 1)              65        \n",
      "                                                                 \n",
      "=================================================================\n",
      "Total params: 58,625\n",
      "Trainable params: 58,625\n",
      "Non-trainable params: 0\n",
      "_________________________________________________________________\n",
      "Epoch 1/70\n",
      "16/16 [==============================] - 2s 9ms/step - loss: 0.6898 - accuracy: 0.5667\n",
      "Epoch 2/70\n",
      "16/16 [==============================] - 0s 9ms/step - loss: 0.6858 - accuracy: 0.5617\n",
      "Epoch 3/70\n",
      "16/16 [==============================] - 0s 8ms/step - loss: 0.6747 - accuracy: 0.5760\n",
      "Epoch 4/70\n",
      "16/16 [==============================] - 0s 9ms/step - loss: 0.6549 - accuracy: 0.5651\n",
      "Epoch 5/70\n",
      "16/16 [==============================] - 0s 9ms/step - loss: 0.6371 - accuracy: 0.5932\n",
      "Epoch 6/70\n",
      "16/16 [==============================] - 0s 10ms/step - loss: 0.6242 - accuracy: 0.6065\n",
      "Epoch 7/70\n",
      "16/16 [==============================] - 0s 10ms/step - loss: 0.6225 - accuracy: 0.6266\n",
      "Epoch 8/70\n",
      "16/16 [==============================] - 0s 8ms/step - loss: 0.6056 - accuracy: 0.6326\n",
      "Epoch 9/70\n",
      "16/16 [==============================] - 0s 9ms/step - loss: 0.6029 - accuracy: 0.6316\n",
      "Epoch 10/70\n",
      "16/16 [==============================] - 0s 8ms/step - loss: 0.5969 - accuracy: 0.6354\n",
      "Epoch 11/70\n",
      "16/16 [==============================] - 0s 9ms/step - loss: 0.5856 - accuracy: 0.6531\n",
      "Epoch 12/70\n",
      "16/16 [==============================] - 0s 9ms/step - loss: 0.5800 - accuracy: 0.6624\n",
      "Epoch 13/70\n",
      "16/16 [==============================] - 0s 9ms/step - loss: 0.5720 - accuracy: 0.6625\n",
      "Epoch 14/70\n",
      "16/16 [==============================] - 0s 9ms/step - loss: 0.5526 - accuracy: 0.6880\n",
      "Epoch 15/70\n",
      "16/16 [==============================] - 0s 9ms/step - loss: 0.5426 - accuracy: 0.6981\n",
      "Epoch 16/70\n",
      "16/16 [==============================] - 0s 9ms/step - loss: 0.5370 - accuracy: 0.6991\n",
      "Epoch 17/70\n",
      "16/16 [==============================] - 0s 9ms/step - loss: 0.5315 - accuracy: 0.7031\n",
      "Epoch 18/70\n",
      "16/16 [==============================] - 0s 8ms/step - loss: 0.5222 - accuracy: 0.7048\n",
      "Epoch 19/70\n",
      "16/16 [==============================] - 0s 9ms/step - loss: 0.5181 - accuracy: 0.7115\n",
      "Epoch 20/70\n",
      "16/16 [==============================] - 0s 9ms/step - loss: 0.4895 - accuracy: 0.7334\n",
      "Epoch 21/70\n",
      "16/16 [==============================] - 0s 9ms/step - loss: 0.4814 - accuracy: 0.7429\n",
      "Epoch 22/70\n",
      "16/16 [==============================] - 0s 9ms/step - loss: 0.4850 - accuracy: 0.7360\n",
      "Epoch 23/70\n",
      "16/16 [==============================] - 0s 9ms/step - loss: 0.4579 - accuracy: 0.7621\n",
      "Epoch 24/70\n",
      "16/16 [==============================] - 0s 9ms/step - loss: 0.4439 - accuracy: 0.7745\n",
      "Epoch 25/70\n",
      "16/16 [==============================] - 0s 9ms/step - loss: 0.4549 - accuracy: 0.7620\n",
      "Epoch 26/70\n",
      "16/16 [==============================] - 0s 9ms/step - loss: 0.4422 - accuracy: 0.7726\n",
      "Epoch 27/70\n",
      "16/16 [==============================] - 0s 9ms/step - loss: 0.4506 - accuracy: 0.7661\n",
      "Epoch 28/70\n",
      "16/16 [==============================] - 0s 8ms/step - loss: 0.4208 - accuracy: 0.7874\n",
      "Epoch 29/70\n",
      "16/16 [==============================] - 0s 9ms/step - loss: 0.4250 - accuracy: 0.7878\n",
      "Epoch 30/70\n",
      "16/16 [==============================] - 0s 8ms/step - loss: 0.4113 - accuracy: 0.7972\n",
      "Epoch 31/70\n",
      "16/16 [==============================] - 0s 9ms/step - loss: 0.3894 - accuracy: 0.8081\n",
      "Epoch 32/70\n",
      "16/16 [==============================] - 0s 9ms/step - loss: 0.3879 - accuracy: 0.8095\n",
      "Epoch 33/70\n",
      "16/16 [==============================] - 0s 8ms/step - loss: 0.4085 - accuracy: 0.8076\n",
      "Epoch 34/70\n",
      "16/16 [==============================] - 0s 9ms/step - loss: 0.3841 - accuracy: 0.8206\n",
      "Epoch 35/70\n",
      "16/16 [==============================] - 0s 9ms/step - loss: 0.3683 - accuracy: 0.8263\n",
      "Epoch 36/70\n",
      "16/16 [==============================] - 0s 8ms/step - loss: 0.3400 - accuracy: 0.8432\n",
      "Epoch 37/70\n",
      "16/16 [==============================] - 0s 9ms/step - loss: 0.3482 - accuracy: 0.8454\n",
      "Epoch 38/70\n",
      "16/16 [==============================] - 0s 9ms/step - loss: 0.3491 - accuracy: 0.8425\n",
      "Epoch 39/70\n",
      "16/16 [==============================] - 0s 9ms/step - loss: 0.3391 - accuracy: 0.8555\n",
      "Epoch 40/70\n",
      "16/16 [==============================] - 0s 8ms/step - loss: 0.3179 - accuracy: 0.8597\n",
      "Epoch 41/70\n",
      "16/16 [==============================] - 0s 9ms/step - loss: 0.3310 - accuracy: 0.8631\n",
      "Epoch 42/70\n",
      "16/16 [==============================] - 0s 9ms/step - loss: 0.3261 - accuracy: 0.8621\n",
      "Epoch 43/70\n",
      "16/16 [==============================] - 0s 9ms/step - loss: 0.3166 - accuracy: 0.8675\n",
      "Epoch 44/70\n",
      "16/16 [==============================] - 0s 8ms/step - loss: 0.2946 - accuracy: 0.8830\n",
      "Epoch 45/70\n",
      "16/16 [==============================] - 0s 9ms/step - loss: 0.2906 - accuracy: 0.8792\n",
      "Epoch 46/70\n",
      "16/16 [==============================] - 0s 9ms/step - loss: 0.3114 - accuracy: 0.8725\n",
      "Epoch 47/70\n",
      "16/16 [==============================] - 0s 9ms/step - loss: 0.2698 - accuracy: 0.8914\n",
      "Epoch 48/70\n",
      "16/16 [==============================] - 0s 9ms/step - loss: 0.2880 - accuracy: 0.8855\n",
      "Epoch 49/70\n",
      "16/16 [==============================] - 0s 8ms/step - loss: 0.2853 - accuracy: 0.8934\n",
      "Epoch 50/70\n",
      "16/16 [==============================] - 0s 8ms/step - loss: 0.2949 - accuracy: 0.8939\n",
      "Epoch 51/70\n",
      "16/16 [==============================] - 0s 9ms/step - loss: 0.2562 - accuracy: 0.9020\n",
      "Epoch 52/70\n",
      "16/16 [==============================] - 0s 8ms/step - loss: 0.2556 - accuracy: 0.9115\n",
      "Epoch 53/70\n",
      "16/16 [==============================] - 0s 8ms/step - loss: 0.2611 - accuracy: 0.9014\n",
      "Epoch 54/70\n",
      "16/16 [==============================] - 0s 9ms/step - loss: 0.2794 - accuracy: 0.8986\n",
      "Epoch 55/70\n",
      "16/16 [==============================] - 0s 8ms/step - loss: 0.2397 - accuracy: 0.9144\n",
      "Epoch 56/70\n",
      "16/16 [==============================] - 0s 9ms/step - loss: 0.2548 - accuracy: 0.9137\n",
      "Epoch 57/70\n",
      "16/16 [==============================] - 0s 9ms/step - loss: 0.2371 - accuracy: 0.9175\n",
      "Epoch 58/70\n",
      "16/16 [==============================] - 0s 8ms/step - loss: 0.2327 - accuracy: 0.9210\n",
      "Epoch 59/70\n",
      "16/16 [==============================] - 0s 9ms/step - loss: 0.2320 - accuracy: 0.9189\n",
      "Epoch 60/70\n",
      "16/16 [==============================] - 0s 9ms/step - loss: 0.2334 - accuracy: 0.9226\n",
      "Epoch 61/70\n",
      "16/16 [==============================] - 0s 8ms/step - loss: 0.2411 - accuracy: 0.9199\n",
      "Epoch 62/70\n",
      "16/16 [==============================] - 0s 9ms/step - loss: 0.2424 - accuracy: 0.9124\n",
      "Epoch 63/70\n",
      "16/16 [==============================] - 0s 9ms/step - loss: 0.2311 - accuracy: 0.9140\n",
      "Epoch 64/70\n",
      "16/16 [==============================] - 0s 9ms/step - loss: 0.2175 - accuracy: 0.9251\n",
      "Epoch 65/70\n",
      "16/16 [==============================] - 0s 9ms/step - loss: 0.2239 - accuracy: 0.9211\n",
      "Epoch 66/70\n",
      "16/16 [==============================] - 0s 9ms/step - loss: 0.2330 - accuracy: 0.9202\n",
      "Epoch 67/70\n",
      "16/16 [==============================] - 0s 9ms/step - loss: 0.2152 - accuracy: 0.9302\n",
      "Epoch 68/70\n",
      "16/16 [==============================] - 0s 9ms/step - loss: 0.2236 - accuracy: 0.9222\n",
      "Epoch 69/70\n",
      "16/16 [==============================] - 0s 8ms/step - loss: 0.2382 - accuracy: 0.9230\n",
      "Epoch 70/70\n",
      "16/16 [==============================] - 0s 9ms/step - loss: 0.2075 - accuracy: 0.9339\n"
     ]
    }
   ],
   "source": [
    "###################################################\n",
    "# TODO: build a model with GRU cell and train it. #\n",
    "#                                                 #\n",
    "###################################################\n",
    "\n",
    "model = tf.keras.Sequential()\n",
    "model.add(tf.keras.layers.GRU(128, input_shape=(8, 1), activation='relu', return_sequences=True, dropout=0.2, recurrent_dropout=0.2))\n",
    "model.add(tf.keras.layers.Dense(64))\n",
    "model.add(tf.keras.layers.Dense(1, activation=\"sigmoid\"))\n",
    "\n",
    "model.summary()\n",
    "model.compile(loss=tf.keras.losses.BinaryCrossentropy(),\n",
    "              optimizer='adam',\n",
    "              metrics=['accuracy'])\n",
    "history_GRU = model.fit(in_data, out_data, batch_size=64, epochs=70)\n",
    "\n",
    "###################################################\n",
    "# END TODO                                        #\n",
    "###################################################"
   ]
  },
  {
   "cell_type": "markdown",
   "metadata": {},
   "source": [
    "#### Hint for creating a model with GRU cell\n",
    "```\n",
    "model = tf.keras.Sequential()\n",
    "model.add(# insert layer 1)\n",
    "model.add(# insert layer 2)\n",
    "model.add(# insert more layers)\n",
    "model.add(# insert output layer)\n",
    "\n",
    "model.summary()\n",
    "model.compile(loss=#choose your loss function,\n",
    "              optimizer=#choose your optimizer with learning rate,\n",
    "              metrics=['accuracy'])\n",
    "history_GRU = model.fit(in_data, out_data, batch_size=64, epochs=15)\n",
    "```"
   ]
  },
  {
   "cell_type": "markdown",
   "metadata": {},
   "source": [
    "### Visualize loss and accuracy"
   ]
  },
  {
   "cell_type": "code",
   "execution_count": 72,
   "metadata": {},
   "outputs": [
    {
     "data": {
      "image/png": "[encoded data removed]",
      "text/plain": [
       "<Figure size 576x396 with 1 Axes>"
      ]
     },
     "metadata": {},
     "output_type": "display_data"
    }
   ],
   "source": [
    "plt.plot(history_LSTM.history['loss'], label='LSTM')\n",
    "plt.plot(history_GRU.history['loss'], label='GRU')\n",
    "plt.title('LSTM/GRU loss')\n",
    "plt.ylabel('loss')\n",
    "plt.xlabel('No. epoch')\n",
    "plt.legend(loc=\"upper left\")\n",
    "plt.show()"
   ]
  },
  {
   "cell_type": "code",
   "execution_count": 73,
   "metadata": {},
   "outputs": [
    {
     "data": {
      "image/png": "[encoded data removed]",
      "text/plain": [
       "<Figure size 576x396 with 1 Axes>"
      ]
     },
     "metadata": {},
     "output_type": "display_data"
    }
   ],
   "source": [
    "plt.plot(history_LSTM.history['accuracy'], label='LSTM')\n",
    "plt.plot(history_GRU.history['accuracy'], label='GRU')\n",
    "plt.title('LSTM/GRU accuracy')\n",
    "plt.ylabel('accuracy')\n",
    "plt.xlabel('No. epoch')\n",
    "plt.legend(loc=\"upper left\")\n",
    "plt.show()"
   ]
  },
  {
   "cell_type": "markdown",
   "metadata": {},
   "source": [
    "<span style=\"color:red\">__TODO:__</span> Answer the question:"
   ]
  },
  {
   "cell_type": "markdown",
   "metadata": {},
   "source": [
    "Which part of this task have you been struggling with most of the  time? Describe how you resolved it."
   ]
  },
  {
   "cell_type": "markdown",
   "metadata": {},
   "source": [
    "<span style=\"color:red\">__SOLUTION:__</span>"
   ]
  },
  {
   "cell_type": "markdown",
   "metadata": {},
   "source": []
  },
  {
   "cell_type": "markdown",
   "metadata": {},
   "source": [
    "<span style=\"color:red\">__TODO:__</span> Answer the question:"
   ]
  },
  {
   "cell_type": "markdown",
   "metadata": {},
   "source": [
    "Which loss function did you use? Why?"
   ]
  },
  {
   "cell_type": "markdown",
   "metadata": {},
   "source": [
    "<span style=\"color:red\">__SOLUTION:__</span>"
   ]
  },
  {
   "cell_type": "markdown",
   "metadata": {},
   "source": []
  },
  {
   "cell_type": "markdown",
   "metadata": {},
   "source": [
    "## Part 3 :  Build your own LSTMCell\n",
    "In this part, you need to build your own LSTM cell to achieve the LSTM functionality (including different types of gates that constitute the cell).\n",
    "\n",
    "You should refer to the materials on how the LSTM cell works  - with its cell states, activation functions and kernels. \n",
    "<br>Please see the course slides or the website https://colah.github.io/posts/2015-08-Understanding-LSTMs/.\n",
    "\n",
    "<span style=\"color:red\">TODO:</span> \n",
    "1. Complete the function **LSTM_step** in utils/xnor/LSTM_step.py;\n",
    "2. Verify the function by running the provided code.\n",
    "3. Use the same way (as described above) to build the model and to train it.\n"
   ]
  },
  {
   "cell_type": "code",
   "execution_count": 44,
   "metadata": {},
   "outputs": [
    {
     "name": "stdout",
     "output_type": "stream",
     "text": [
      "Simple verification:\n",
      "Is h correct? True\n",
      "Is c correct? True\n"
     ]
    }
   ],
   "source": [
    "from utils.xnor.LSTM_step import LSTM_step\n",
    "\n",
    "cell_inputs = np.ones((1,1))\n",
    "cell_states = [0.2*np.ones((1,64)), np.zeros((1,64))]\n",
    "kernel = 0.1*np.ones((1,256))\n",
    "recurrent_kernel = 0.1*np.ones((64,256))\n",
    "bias = np.zeros(256)\n",
    "\n",
    "h , [h,c] = LSTM_step(cell_inputs, cell_states, kernel, recurrent_kernel, bias)\n",
    "print('Simple verification:')\n",
    "print('Is h correct?', np.isclose(h.numpy()[0][0],0.48484358))\n",
    "print('Is c correct?', np.isclose(c.numpy()[0][0],0.70387213))"
   ]
  },
  {
   "cell_type": "code",
   "execution_count": 74,
   "metadata": {},
   "outputs": [],
   "source": [
    "in_data, out_data = create_xnor_dataset(1000) # create a dataset with a batch size of 1000"
   ]
  },
  {
   "cell_type": "code",
   "execution_count": 75,
   "metadata": {},
   "outputs": [
    {
     "name": "stdout",
     "output_type": "stream",
     "text": [
      "Model: \"sequential_30\"\n",
      "_________________________________________________________________\n",
      " Layer (type)                Output Shape              Param #   \n",
      "=================================================================\n",
      " lstm_23 (LSTM)              (None, 8, 128)            66560     \n",
      "                                                                 \n",
      " dense_52 (Dense)            (None, 8, 64)             8256      \n",
      "                                                                 \n",
      " dense_53 (Dense)            (None, 8, 1)              65        \n",
      "                                                                 \n",
      "=================================================================\n",
      "Total params: 74,881\n",
      "Trainable params: 74,881\n",
      "Non-trainable params: 0\n",
      "_________________________________________________________________\n",
      "Epoch 1/70\n",
      "16/16 [==============================] - 2s 11ms/step - loss: 0.6925 - accuracy: 0.5341\n",
      "Epoch 2/70\n",
      "16/16 [==============================] - 0s 10ms/step - loss: 0.6897 - accuracy: 0.5701\n",
      "Epoch 3/70\n",
      "16/16 [==============================] - 0s 10ms/step - loss: 0.6868 - accuracy: 0.5501\n",
      "Epoch 4/70\n",
      "16/16 [==============================] - 0s 10ms/step - loss: 0.6796 - accuracy: 0.5744\n",
      "Epoch 5/70\n",
      "16/16 [==============================] - 0s 10ms/step - loss: 0.6667 - accuracy: 0.5829\n",
      "Epoch 6/70\n",
      "16/16 [==============================] - 0s 10ms/step - loss: 0.6514 - accuracy: 0.5809\n",
      "Epoch 7/70\n",
      "16/16 [==============================] - 0s 10ms/step - loss: 0.6384 - accuracy: 0.5755\n",
      "Epoch 8/70\n",
      "16/16 [==============================] - 0s 11ms/step - loss: 0.6253 - accuracy: 0.6134\n",
      "Epoch 9/70\n",
      "16/16 [==============================] - 0s 11ms/step - loss: 0.6250 - accuracy: 0.6096\n",
      "Epoch 10/70\n",
      "16/16 [==============================] - 0s 11ms/step - loss: 0.6136 - accuracy: 0.6371\n",
      "Epoch 11/70\n",
      "16/16 [==============================] - 0s 12ms/step - loss: 0.6120 - accuracy: 0.6295\n",
      "Epoch 12/70\n",
      "16/16 [==============================] - 0s 11ms/step - loss: 0.5987 - accuracy: 0.6378\n",
      "Epoch 13/70\n",
      "16/16 [==============================] - 0s 12ms/step - loss: 0.5974 - accuracy: 0.6403\n",
      "Epoch 14/70\n",
      "16/16 [==============================] - 0s 11ms/step - loss: 0.5746 - accuracy: 0.6555\n",
      "Epoch 15/70\n",
      "16/16 [==============================] - 0s 11ms/step - loss: 0.5878 - accuracy: 0.6495\n",
      "Epoch 16/70\n",
      "16/16 [==============================] - 0s 11ms/step - loss: 0.5806 - accuracy: 0.6461\n",
      "Epoch 17/70\n",
      "16/16 [==============================] - 0s 11ms/step - loss: 0.5530 - accuracy: 0.6866\n",
      "Epoch 18/70\n",
      "16/16 [==============================] - 0s 10ms/step - loss: 0.5405 - accuracy: 0.7042\n",
      "Epoch 19/70\n",
      "16/16 [==============================] - 0s 11ms/step - loss: 0.5322 - accuracy: 0.6936\n",
      "Epoch 20/70\n",
      "16/16 [==============================] - 0s 11ms/step - loss: 0.5212 - accuracy: 0.7156\n",
      "Epoch 21/70\n",
      "16/16 [==============================] - 0s 11ms/step - loss: 0.5100 - accuracy: 0.7175\n",
      "Epoch 22/70\n",
      "16/16 [==============================] - 0s 10ms/step - loss: 0.5021 - accuracy: 0.7163\n",
      "Epoch 23/70\n",
      "16/16 [==============================] - 0s 10ms/step - loss: 0.4830 - accuracy: 0.7349\n",
      "Epoch 24/70\n",
      "16/16 [==============================] - 0s 10ms/step - loss: 0.4635 - accuracy: 0.7383\n",
      "Epoch 25/70\n",
      "16/16 [==============================] - 0s 11ms/step - loss: 0.4800 - accuracy: 0.7315\n",
      "Epoch 26/70\n",
      "16/16 [==============================] - 0s 11ms/step - loss: 0.4399 - accuracy: 0.7536\n",
      "Epoch 27/70\n",
      "16/16 [==============================] - 0s 10ms/step - loss: 0.4261 - accuracy: 0.7728\n",
      "Epoch 28/70\n",
      "16/16 [==============================] - 0s 10ms/step - loss: 0.3935 - accuracy: 0.7881\n",
      "Epoch 29/70\n",
      "16/16 [==============================] - 0s 10ms/step - loss: 0.3839 - accuracy: 0.8061\n",
      "Epoch 30/70\n",
      "16/16 [==============================] - 0s 10ms/step - loss: 0.3633 - accuracy: 0.8227\n",
      "Epoch 31/70\n",
      "16/16 [==============================] - 0s 14ms/step - loss: 0.3672 - accuracy: 0.8177\n",
      "Epoch 32/70\n",
      "16/16 [==============================] - 0s 11ms/step - loss: 0.3391 - accuracy: 0.8391\n",
      "Epoch 33/70\n",
      "16/16 [==============================] - 0s 12ms/step - loss: 0.3493 - accuracy: 0.8326\n",
      "Epoch 34/70\n",
      "16/16 [==============================] - 0s 10ms/step - loss: 0.3171 - accuracy: 0.8489\n",
      "Epoch 35/70\n",
      "16/16 [==============================] - 0s 11ms/step - loss: 0.3049 - accuracy: 0.8597\n",
      "Epoch 36/70\n",
      "16/16 [==============================] - 0s 11ms/step - loss: 0.2978 - accuracy: 0.8670\n",
      "Epoch 37/70\n",
      "16/16 [==============================] - 0s 10ms/step - loss: 0.2985 - accuracy: 0.8686\n",
      "Epoch 38/70\n",
      "16/16 [==============================] - 0s 10ms/step - loss: 0.2713 - accuracy: 0.8849\n",
      "Epoch 39/70\n",
      "16/16 [==============================] - 0s 10ms/step - loss: 0.2946 - accuracy: 0.8763\n",
      "Epoch 40/70\n",
      "16/16 [==============================] - 0s 10ms/step - loss: 0.2914 - accuracy: 0.8777\n",
      "Epoch 41/70\n",
      "16/16 [==============================] - 0s 11ms/step - loss: 0.2539 - accuracy: 0.8915\n",
      "Epoch 42/70\n",
      "16/16 [==============================] - 0s 11ms/step - loss: 0.2354 - accuracy: 0.9056\n",
      "Epoch 43/70\n",
      "16/16 [==============================] - 0s 10ms/step - loss: 0.2141 - accuracy: 0.9155\n",
      "Epoch 44/70\n",
      "16/16 [==============================] - 0s 11ms/step - loss: 0.2428 - accuracy: 0.9035\n",
      "Epoch 45/70\n",
      "16/16 [==============================] - 0s 11ms/step - loss: 0.2502 - accuracy: 0.9046\n",
      "Epoch 46/70\n",
      "16/16 [==============================] - 0s 10ms/step - loss: 0.2116 - accuracy: 0.9199\n",
      "Epoch 47/70\n",
      "16/16 [==============================] - 0s 11ms/step - loss: 0.2265 - accuracy: 0.9136\n",
      "Epoch 48/70\n",
      "16/16 [==============================] - 0s 10ms/step - loss: 0.2063 - accuracy: 0.9185\n",
      "Epoch 49/70\n",
      "16/16 [==============================] - 0s 10ms/step - loss: 0.2140 - accuracy: 0.9221\n",
      "Epoch 50/70\n",
      "16/16 [==============================] - 0s 10ms/step - loss: 0.2286 - accuracy: 0.9147\n",
      "Epoch 51/70\n",
      "16/16 [==============================] - 0s 10ms/step - loss: 0.1678 - accuracy: 0.9389\n",
      "Epoch 52/70\n",
      "16/16 [==============================] - 0s 11ms/step - loss: 0.2206 - accuracy: 0.9237\n",
      "Epoch 53/70\n",
      "16/16 [==============================] - 0s 10ms/step - loss: 0.2174 - accuracy: 0.9261\n",
      "Epoch 54/70\n",
      "16/16 [==============================] - 0s 11ms/step - loss: 0.1694 - accuracy: 0.9385\n",
      "Epoch 55/70\n",
      "16/16 [==============================] - 0s 10ms/step - loss: 0.1664 - accuracy: 0.9419\n",
      "Epoch 56/70\n",
      "16/16 [==============================] - 0s 11ms/step - loss: 0.1760 - accuracy: 0.9386\n",
      "Epoch 57/70\n",
      "16/16 [==============================] - 0s 10ms/step - loss: 0.1549 - accuracy: 0.9484\n",
      "Epoch 58/70\n",
      "16/16 [==============================] - 0s 11ms/step - loss: 0.1676 - accuracy: 0.9450\n",
      "Epoch 59/70\n",
      "16/16 [==============================] - 0s 10ms/step - loss: 0.1973 - accuracy: 0.9365\n",
      "Epoch 60/70\n",
      "16/16 [==============================] - 0s 11ms/step - loss: 0.1515 - accuracy: 0.9467\n",
      "Epoch 61/70\n",
      "16/16 [==============================] - 0s 10ms/step - loss: 0.1630 - accuracy: 0.9530\n",
      "Epoch 62/70\n",
      "16/16 [==============================] - 0s 10ms/step - loss: 0.1684 - accuracy: 0.9492\n",
      "Epoch 63/70\n",
      "16/16 [==============================] - 0s 11ms/step - loss: 0.1478 - accuracy: 0.9519\n",
      "Epoch 64/70\n",
      "16/16 [==============================] - 0s 10ms/step - loss: 0.1528 - accuracy: 0.9523\n",
      "Epoch 65/70\n",
      "16/16 [==============================] - 0s 10ms/step - loss: 0.1473 - accuracy: 0.9494\n",
      "Epoch 66/70\n",
      "16/16 [==============================] - 0s 11ms/step - loss: 0.1836 - accuracy: 0.9455\n",
      "Epoch 67/70\n",
      "16/16 [==============================] - 0s 10ms/step - loss: 0.1441 - accuracy: 0.9561\n",
      "Epoch 68/70\n",
      "16/16 [==============================] - 0s 10ms/step - loss: 0.1425 - accuracy: 0.9584\n",
      "Epoch 69/70\n",
      "16/16 [==============================] - 0s 10ms/step - loss: 0.1491 - accuracy: 0.9540\n",
      "Epoch 70/70\n",
      "16/16 [==============================] - 0s 10ms/step - loss: 0.1441 - accuracy: 0.9589\n"
     ]
    }
   ],
   "source": [
    "###################################################\n",
    "# TODO: build a network with LSTM cell and train it.#\n",
    "#                                                 #\n",
    "###################################################\n",
    "model = tf.keras.Sequential()\n",
    "model.add(tf.keras.layers.LSTM(128, input_shape=(8, 1), activation='relu', return_sequences=True, dropout=0.2, recurrent_dropout=0.2))\n",
    "model.add(tf.keras.layers.Dense(64))\n",
    "model.add(tf.keras.layers.Dense(1, activation=\"sigmoid\"))\n",
    "\n",
    "model.summary()\n",
    "model.compile(loss=tf.keras.losses.BinaryCrossentropy(),\n",
    "              optimizer='adam',\n",
    "              metrics=['accuracy'])\n",
    "history = model.fit(in_data, out_data, batch_size=64, epochs=70)\n",
    "\n",
    "###################################################\n",
    "# END TODO                                        #\n",
    "###################################################"
   ]
  },
  {
   "cell_type": "markdown",
   "metadata": {},
   "source": [
    "#### Hint for building a model with LSTM cell\n",
    "```\n",
    "model = tf.keras.Sequential()\n",
    "model.add(# insert layer 1)\n",
    "model.add(# insert layer 2)\n",
    "model.add(# insert more layers)\n",
    "model.add(# insert output layer)\n",
    "\n",
    "model.summary()\n",
    "model.compile(loss=#choose your loss function,\n",
    "              optimizer=#choose your optimizer with learning rate,\n",
    "              metrics=['accuracy'])\n",
    "history = model.fit(in_data, out_data, batch_size=64, epochs=15)\n",
    "```"
   ]
  },
  {
   "cell_type": "markdown",
   "metadata": {},
   "source": [
    "### Visualize loss and accuracy"
   ]
  },
  {
   "cell_type": "code",
   "execution_count": 76,
   "metadata": {},
   "outputs": [
    {
     "data": {
      "image/png": "[encoded data removed]",
      "text/plain": [
       "<Figure size 576x396 with 1 Axes>"
      ]
     },
     "metadata": {},
     "output_type": "display_data"
    }
   ],
   "source": [
    "plt.plot(history.history['loss'], label='loss')\n",
    "plt.plot(history.history['accuracy'], label='accuracy')\n",
    "plt.title('Training history')\n",
    "plt.ylabel('value')\n",
    "plt.xlabel('No. epoch')\n",
    "plt.legend(loc=\"upper left\")\n",
    "plt.show()"
   ]
  },
  {
   "cell_type": "code",
   "execution_count": null,
   "metadata": {},
   "outputs": [],
   "source": []
  }
 ],
 "metadata": {
  "kernelspec": {
   "display_name": "Python 3",
   "language": "python",
   "name": "python3"
  },
  "language_info": {
   "codemirror_mode": {
    "name": "ipython",
    "version": 3
   },
   "file_extension": ".py",
   "mimetype": "text/x-python",
   "name": "python",
   "nbconvert_exporter": "python",
   "pygments_lexer": "ipython3",
   "version": "3.7.10"
  }
 },
 "nbformat": 4,
 "nbformat_minor": 4
}
