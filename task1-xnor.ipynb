{
 "cells": [
  {
   "cell_type": "markdown",
   "metadata": {},
   "source": [
    "## Columbia University\n",
    "### ECBM E4040 Neural Networks and Deep Learning. Fall 2021."
   ]
  },
  {
   "cell_type": "markdown",
   "metadata": {},
   "source": [
    "# Task 1: XNOR"
   ]
  },
  {
   "cell_type": "code",
   "execution_count": 1,
   "metadata": {},
   "outputs": [
    {
     "name": "stdout",
     "output_type": "stream",
     "text": [
      "2.7.0\n"
     ]
    }
   ],
   "source": [
    "# Import modules\n",
    "from __future__ import print_function\n",
    "import tensorflow as tf\n",
    "\n",
    "physical_devices = tf.config.list_physical_devices('GPU')\n",
    "tf.config.experimental.set_memory_growth(physical_devices[0], enable=True)\n",
    "\n",
    "import numpy as np\n",
    "from numpy.random import shuffle\n",
    "import time\n",
    "import matplotlib.pyplot as plt\n",
    "plt.style.use(\"dark_background\")\n",
    "\n",
    "# Plot configurations\n",
    "%matplotlib inline\n",
    "\n",
    "# Notebook auto reloads code. (Ref: http://stackoverflow.com/questions/1907993/autoreload-of-modules-in-ipython)\n",
    "%load_ext autoreload\n",
    "%autoreload 2\n",
    "print(tf.__version__)"
   ]
  },
  {
   "cell_type": "markdown",
   "metadata": {},
   "source": [
    "##  Part 1: Backpropagation through time (BPTT)"
   ]
  },
  {
   "cell_type": "markdown",
   "metadata": {},
   "source": [
    "**Question:** Consider a simple RNN network shown in the following figure, where _wx, wh, b1, w, b2_ are the scalar parameters of the network. The loss function is the **mean squared error (MSE)**. Given input _(x1, x2) = (-1, 2)_, ground truth _(g1, g2) = (0, 1), h0 = 0, and (wx, wh, b1, w, b2) = (3, 1, 2, -1, 1)_, **compute _(dwx, dwh, db1, dw, db2)_**, which are the gradients of loss with repect to 5 parameters _(wx, wh, b1, w, b2)_.\n",
    "\n",
    "![bptt](./img/bptt2.jpg)"
   ]
  },
  {
   "cell_type": "markdown",
   "metadata": {},
   "source": [
    "<span style=\"color:red\">TODO:</span>\n",
    "\n",
    "Answer the above question. \n",
    "\n",
    "* Show all of your derivations and the computational process.\n",
    "* Use LATEX to edit the equations (Jupyter notebook can recognize the basic LATEX syntax). Alternatively, you can edit equations in some other environment and then paste the screenshot of the equations here."
   ]
  },
  {
   "cell_type": "markdown",
   "metadata": {},
   "source": [
    "<span style=\"color:red\">Solution:</span>\n",
    "\n",
    "**[fill in here: Enter your derivations and the computational process]**"
   ]
  },
  {
   "cell_type": "code",
   "execution_count": 2,
   "metadata": {},
   "outputs": [
    {
     "name": "stdout",
     "output_type": "stream",
     "text": [
      "Verified by tensorflow (TODO compare values with your hand-written calculations):\n",
      "dw = -0.0851, db2 = 0.0231, dwx = 0.0292, dwh = 0.0000, db1 = -0.0291\n"
     ]
    }
   ],
   "source": [
    "# use tensorflow to verify the answer.\n",
    "with tf.GradientTape() as G:\n",
    "    w = tf.Variable(-1.0)\n",
    "    b2 = tf.Variable(1.0)\n",
    "    wx = tf.Variable(3.0)\n",
    "    wh = tf.Variable(1.0)\n",
    "    b1 = tf.Variable(2.0)\n",
    "\n",
    "    h0 = tf.Variable(0.0)\n",
    "    x = tf.Variable((-1.0,2.0))\n",
    "    g = tf.Variable((0.0, 1.0))\n",
    "\n",
    "    y = []\n",
    "    h1 = tf.sigmoid(wx*x[0] + wh*h0 + b1)\n",
    "    y.append(tf.sigmoid(w*h1 + b2))\n",
    "    h2 = tf.sigmoid(wx*x[1] + wh*h1 + b1)\n",
    "    y.append(tf.sigmoid(w*h2 + b2))\n",
    "\n",
    "    loss = 0.5*(tf.square(g[0]-y[0]) + tf.square(g[1]-y[1]))\n",
    "\n",
    "    dw_t, db2_t, dwx_t, dwh_t, db1_t = G.gradient(loss, [w, b2, wx, wh, b1])\n",
    "    \n",
    "\n",
    "print(\"Verified by tensorflow (TODO compare values with your hand-written calculations):\")\n",
    "print(\"dw = {:.4f}, db2 = {:.4f}, dwx = {:.4f}, dwh = {:.4f}, db1 = {:.4f}\".format(dw_t, db2_t, dwx_t, dwh_t, db1_t))"
   ]
  },
  {
   "cell_type": "markdown",
   "metadata": {},
   "source": [
    "## Part 2: Use TensorFlow modules to create XNOR network\n",
    "\n",
    "In this part, you need to build and train an XNOR network that can learn the XNOR function. It is a very simple implementation of RNN and will give you an idea how RNN is built and how to train it."
   ]
  },
  {
   "cell_type": "markdown",
   "metadata": {},
   "source": [
    "### XNOR network\n",
    "\n",
    "XNOR network can learn the XNOR ($\\odot$) function\n",
    "\n",
    "As shown in the figure below, and for instance, if input $(x_0, x_1, x_2, x_3, x_4, x_5, x_6, x_7)$=(0,0,1,1,1,1,1,0), then output $(y_1, y_2, y_3, y_4, y_5, y_6, y_7, y_8)$=(1,1,0,1,0,1,0,0). That is, $y_n = x_0\\odot x_1 \\odot ... \\odot x_{n-1}\\odot x_{n}$\n",
    "\n",
    "![xnor_net](./img/xnor.png)"
   ]
  },
  {
   "cell_type": "markdown",
   "metadata": {},
   "source": [
    "### Create a data set\n",
    "This function provides a way to generate the data which is needed for the training process. You should utilize it when building your training function for the GRU. Read the source code for more information."
   ]
  },
  {
   "cell_type": "code",
   "execution_count": 3,
   "metadata": {},
   "outputs": [],
   "source": [
    "from utils.xnor.dataset import create_xnor_dataset"
   ]
  },
  {
   "cell_type": "code",
   "execution_count": 4,
   "metadata": {},
   "outputs": [
    {
     "data": {
      "text/plain": [
       "(array([[[1],\n",
       "         [0],\n",
       "         [1],\n",
       "         [1],\n",
       "         [0],\n",
       "         [1],\n",
       "         [1],\n",
       "         [1]]]),\n",
       " array([[1, 1, 0, 1, 1, 0, 1, 0]]))"
      ]
     },
     "execution_count": 4,
     "metadata": {},
     "output_type": "execute_result"
    }
   ],
   "source": [
    "create_xnor_dataset(1)"
   ]
  },
  {
   "cell_type": "markdown",
   "metadata": {},
   "source": [
    "### Build a network using a TensorFlow LSTMCell and GRUCell\n",
    "In this section, you are asked to build a XNOR net using a TensorFlow LSTMCell and a GRUCell. In TensorFlow 2, these two cells are supported by Keras. Please check online documents below.\n",
    "\n",
    "Reference: \n",
    "1. [TensorFlow(Keras): Working with RNNs](https://keras.io/guides/working_with_rnns/)\n",
    "2. [TensorFlow: Recurrent Neural Networks (RNN) with Keras](https://www.tensorflow.org/guide/keras/rnn)\n",
    "3. [TensorFlow LSTM cell](https://www.tensorflow.org/api_docs/python/tf/keras/layers/LSTM)\n",
    "4. [TensorFlow GRU cell](https://www.tensorflow.org/api_docs/python/tf/keras/layers/GRU)\n",
    "5. [TensorFlow: Sequential Model](https://www.tensorflow.org/guide/keras/sequential_model)\n"
   ]
  },
  {
   "cell_type": "markdown",
   "metadata": {},
   "source": [
    "<span style=\"color:red\">TODO:</span>\n",
    "Use TensorFlow to build and train your XNOR net. The dataset is already provided. You will do the following:\n",
    "- Learn how to use **tf.keras.layers.LSTM** and **tf.keras.layers.GRU** in TensorFlow(Keras). \n",
    "- Choose appropriate parameters to build a model (Sequential Model in Keras is suggested). \n",
    "- Compile your model with appropriate loss function, optimizer, metrics, etc.\n",
    "- Train your model and see the loss history.\n",
    "\n",
    "Tips: \n",
    "1. Make sure that the shape of your data is corrrect after every step.\n",
    "2. Choose your loss function according to your network design.\n",
    "3. Choose 'accuracy' as your metrics when compiling your model.\n",
    "4. Make sure that names of history for the network with LSTMCell and GRUCell (which you used while training) are the same as the ones in the plotting functions.\n",
    "4. Feel free to ask TAs if you get stuck somewhere."
   ]
  },
  {
   "cell_type": "markdown",
   "metadata": {},
   "source": [
    "### Build a network with LSTM cell"
   ]
  },
  {
   "cell_type": "code",
   "execution_count": 54,
   "metadata": {
    "pycharm": {
     "is_executing": true
    }
   },
   "outputs": [],
   "source": [
    "in_data, out_data = create_xnor_dataset(1000) # create a dataset with a batch size of 1000"
   ]
  },
  {
   "cell_type": "code",
   "execution_count": 50,
   "metadata": {
    "pycharm": {
     "is_executing": true
    }
   },
   "outputs": [
    {
     "name": "stdout",
     "output_type": "stream",
     "text": [
      "Model: \"sequential_26\"\n",
      "_________________________________________________________________\n",
      " Layer (type)                Output Shape              Param #   \n",
      "=================================================================\n",
      " gru_4 (GRU)                 (None, 8, 128)            50304     \n",
      "                                                                 \n",
      " dense_44 (Dense)            (None, 8, 64)             8256      \n",
      "                                                                 \n",
      " dense_45 (Dense)            (None, 8, 1)              65        \n",
      "                                                                 \n",
      "=================================================================\n",
      "Total params: 58,625\n",
      "Trainable params: 58,625\n",
      "Non-trainable params: 0\n",
      "_________________________________________________________________\n",
      "Epoch 1/70\n",
      "16/16 [==============================] - 1s 8ms/step - loss: 0.6889 - accuracy: 0.5635\n",
      "Epoch 2/70\n",
      "16/16 [==============================] - 0s 7ms/step - loss: 0.6829 - accuracy: 0.5605\n",
      "Epoch 3/70\n",
      "16/16 [==============================] - 0s 7ms/step - loss: 0.6717 - accuracy: 0.5696\n",
      "Epoch 4/70\n",
      "16/16 [==============================] - 0s 8ms/step - loss: 0.6517 - accuracy: 0.5760\n",
      "Epoch 5/70\n",
      "16/16 [==============================] - 0s 8ms/step - loss: 0.6400 - accuracy: 0.5813\n",
      "Epoch 6/70\n",
      "16/16 [==============================] - 0s 8ms/step - loss: 0.6297 - accuracy: 0.5987\n",
      "Epoch 7/70\n",
      "16/16 [==============================] - 0s 8ms/step - loss: 0.6163 - accuracy: 0.6231\n",
      "Epoch 8/70\n",
      "16/16 [==============================] - 0s 7ms/step - loss: 0.6109 - accuracy: 0.6320\n",
      "Epoch 9/70\n",
      "16/16 [==============================] - 0s 8ms/step - loss: 0.5984 - accuracy: 0.6370\n",
      "Epoch 10/70\n",
      "16/16 [==============================] - 0s 8ms/step - loss: 0.5894 - accuracy: 0.6465\n",
      "Epoch 11/70\n",
      "16/16 [==============================] - 0s 8ms/step - loss: 0.5801 - accuracy: 0.6553\n",
      "Epoch 12/70\n",
      "16/16 [==============================] - 0s 8ms/step - loss: 0.5789 - accuracy: 0.6670\n",
      "Epoch 13/70\n",
      "16/16 [==============================] - 0s 8ms/step - loss: 0.5623 - accuracy: 0.6841\n",
      "Epoch 14/70\n",
      "16/16 [==============================] - 0s 8ms/step - loss: 0.5531 - accuracy: 0.6835\n",
      "Epoch 15/70\n",
      "16/16 [==============================] - 0s 8ms/step - loss: 0.5505 - accuracy: 0.6911\n",
      "Epoch 16/70\n",
      "16/16 [==============================] - 0s 7ms/step - loss: 0.5237 - accuracy: 0.7150\n",
      "Epoch 17/70\n",
      "16/16 [==============================] - 0s 7ms/step - loss: 0.5269 - accuracy: 0.7104\n",
      "Epoch 18/70\n",
      "16/16 [==============================] - 0s 12ms/step - loss: 0.5203 - accuracy: 0.7180\n",
      "Epoch 19/70\n",
      "16/16 [==============================] - 0s 7ms/step - loss: 0.5153 - accuracy: 0.7101\n",
      "Epoch 20/70\n",
      "16/16 [==============================] - 0s 8ms/step - loss: 0.5022 - accuracy: 0.7253\n",
      "Epoch 21/70\n",
      "16/16 [==============================] - 0s 8ms/step - loss: 0.4914 - accuracy: 0.7437\n",
      "Epoch 22/70\n",
      "16/16 [==============================] - 0s 8ms/step - loss: 0.4897 - accuracy: 0.7411\n",
      "Epoch 23/70\n",
      "16/16 [==============================] - 0s 8ms/step - loss: 0.4980 - accuracy: 0.7366\n",
      "Epoch 24/70\n",
      "16/16 [==============================] - 0s 7ms/step - loss: 0.4546 - accuracy: 0.7669\n",
      "Epoch 25/70\n",
      "16/16 [==============================] - 0s 7ms/step - loss: 0.4550 - accuracy: 0.7656\n",
      "Epoch 26/70\n",
      "16/16 [==============================] - 0s 8ms/step - loss: 0.4508 - accuracy: 0.7725\n",
      "Epoch 27/70\n",
      "16/16 [==============================] - 0s 8ms/step - loss: 0.4471 - accuracy: 0.7695\n",
      "Epoch 28/70\n",
      "16/16 [==============================] - 0s 8ms/step - loss: 0.4431 - accuracy: 0.7697\n",
      "Epoch 29/70\n",
      "16/16 [==============================] - 0s 8ms/step - loss: 0.4253 - accuracy: 0.7755\n",
      "Epoch 30/70\n",
      "16/16 [==============================] - 0s 8ms/step - loss: 0.4206 - accuracy: 0.7890\n",
      "Epoch 31/70\n",
      "16/16 [==============================] - 0s 8ms/step - loss: 0.4178 - accuracy: 0.7868\n",
      "Epoch 32/70\n",
      "16/16 [==============================] - 0s 8ms/step - loss: 0.4071 - accuracy: 0.7964\n",
      "Epoch 33/70\n",
      "16/16 [==============================] - 0s 8ms/step - loss: 0.3878 - accuracy: 0.8076\n",
      "Epoch 34/70\n",
      "16/16 [==============================] - 0s 8ms/step - loss: 0.3983 - accuracy: 0.8025\n",
      "Epoch 35/70\n",
      "16/16 [==============================] - 0s 8ms/step - loss: 0.3856 - accuracy: 0.8135\n",
      "Epoch 36/70\n",
      "16/16 [==============================] - 0s 8ms/step - loss: 0.3625 - accuracy: 0.8254\n",
      "Epoch 37/70\n",
      "16/16 [==============================] - 0s 8ms/step - loss: 0.3368 - accuracy: 0.8403\n",
      "Epoch 38/70\n",
      "16/16 [==============================] - 0s 13ms/step - loss: 0.3606 - accuracy: 0.8351\n",
      "Epoch 39/70\n",
      "16/16 [==============================] - 0s 8ms/step - loss: 0.3291 - accuracy: 0.8495\n",
      "Epoch 40/70\n",
      "16/16 [==============================] - 0s 8ms/step - loss: 0.3336 - accuracy: 0.8489\n",
      "Epoch 41/70\n",
      "16/16 [==============================] - 0s 9ms/step - loss: 0.3000 - accuracy: 0.8614\n",
      "Epoch 42/70\n",
      "16/16 [==============================] - 0s 8ms/step - loss: 0.3226 - accuracy: 0.8644\n",
      "Epoch 43/70\n",
      "16/16 [==============================] - 0s 8ms/step - loss: 0.3253 - accuracy: 0.8652\n",
      "Epoch 44/70\n",
      "16/16 [==============================] - 0s 8ms/step - loss: 0.3046 - accuracy: 0.8774\n",
      "Epoch 45/70\n",
      "16/16 [==============================] - 0s 8ms/step - loss: 0.2937 - accuracy: 0.8910\n",
      "Epoch 46/70\n",
      "16/16 [==============================] - 0s 8ms/step - loss: 0.2934 - accuracy: 0.8796\n",
      "Epoch 47/70\n",
      "16/16 [==============================] - 0s 8ms/step - loss: 0.3003 - accuracy: 0.8817\n",
      "Epoch 48/70\n",
      "16/16 [==============================] - 0s 8ms/step - loss: 0.3007 - accuracy: 0.8845\n",
      "Epoch 49/70\n",
      "16/16 [==============================] - 0s 8ms/step - loss: 0.2944 - accuracy: 0.8819\n",
      "Epoch 50/70\n",
      "16/16 [==============================] - 0s 8ms/step - loss: 0.2700 - accuracy: 0.8992\n",
      "Epoch 51/70\n",
      "16/16 [==============================] - 0s 8ms/step - loss: 0.2805 - accuracy: 0.8898\n",
      "Epoch 52/70\n",
      "16/16 [==============================] - 0s 8ms/step - loss: 0.2820 - accuracy: 0.9001\n",
      "Epoch 53/70\n",
      "16/16 [==============================] - 0s 8ms/step - loss: 0.2714 - accuracy: 0.9006\n",
      "Epoch 54/70\n",
      "16/16 [==============================] - 0s 8ms/step - loss: 0.2477 - accuracy: 0.9084\n",
      "Epoch 55/70\n",
      "16/16 [==============================] - 0s 8ms/step - loss: 0.2618 - accuracy: 0.9039\n",
      "Epoch 56/70\n",
      "16/16 [==============================] - 0s 8ms/step - loss: 0.2480 - accuracy: 0.9199\n",
      "Epoch 57/70\n",
      "16/16 [==============================] - 0s 8ms/step - loss: 0.2487 - accuracy: 0.9141\n",
      "Epoch 58/70\n",
      "16/16 [==============================] - 0s 8ms/step - loss: 0.2182 - accuracy: 0.9246\n",
      "Epoch 59/70\n",
      "16/16 [==============================] - 0s 8ms/step - loss: 0.2874 - accuracy: 0.9016\n",
      "Epoch 60/70\n",
      "16/16 [==============================] - 0s 8ms/step - loss: 0.2197 - accuracy: 0.9237\n",
      "Epoch 61/70\n",
      "16/16 [==============================] - 0s 8ms/step - loss: 0.2247 - accuracy: 0.9261\n",
      "Epoch 62/70\n",
      "16/16 [==============================] - 0s 8ms/step - loss: 0.2133 - accuracy: 0.9229\n",
      "Epoch 63/70\n",
      "16/16 [==============================] - 0s 9ms/step - loss: 0.2250 - accuracy: 0.9161\n",
      "Epoch 64/70\n",
      "16/16 [==============================] - 0s 8ms/step - loss: 0.2486 - accuracy: 0.9251\n",
      "Epoch 65/70\n",
      "16/16 [==============================] - 0s 8ms/step - loss: 0.2160 - accuracy: 0.9230\n",
      "Epoch 66/70\n",
      "16/16 [==============================] - 0s 8ms/step - loss: 0.2072 - accuracy: 0.9290\n",
      "Epoch 67/70\n",
      "16/16 [==============================] - 0s 8ms/step - loss: 0.1993 - accuracy: 0.9345\n",
      "Epoch 68/70\n",
      "16/16 [==============================] - 0s 8ms/step - loss: 0.2218 - accuracy: 0.9336\n",
      "Epoch 69/70\n",
      "16/16 [==============================] - 0s 8ms/step - loss: 0.1994 - accuracy: 0.9284\n",
      "Epoch 70/70\n",
      "16/16 [==============================] - 0s 8ms/step - loss: 0.2324 - accuracy: 0.9286\n"
     ]
    }
   ],
   "source": [
    "###################################################\n",
    "# TODO: build a network with LSTM cell and train it.#\n",
    "#                                                 #\n",
    "###################################################\n",
    "\n",
    "model = tf.keras.Sequential()\n",
    "model.add(tf.keras.layers.GRU(128, input_shape=(8, 1), activation='relu', return_sequences=True, dropout=0.2, recurrent_dropout=0.2))\n",
    "model.add(tf.keras.layers.Dense(64))\n",
    "model.add(tf.keras.layers.Dense(1, activation=\"sigmoid\"))\n",
    "\n",
    "model.summary()\n",
    "model.compile(loss=tf.keras.losses.BinaryCrossentropy(),\n",
    "              optimizer='adam',\n",
    "              metrics=['accuracy'])\n",
    "history_LSTM = model.fit(in_data, out_data, batch_size=64, epochs=70)\n",
    "\n",
    "###################################################\n",
    "# END TODO                                        #\n",
    "###################################################"
   ]
  },
  {
   "cell_type": "markdown",
   "metadata": {},
   "source": [
    "#### Hint for creating a model with LSTM cells\n",
    "```\n",
    "model = tf.keras.Sequential() \n",
    "model.add(# insert layer 1)\n",
    "model.add(# insert layer 2) \n",
    "model.add(# insert more layers) \n",
    "model.add(# insert output layer)\n",
    "\n",
    "model.summary() \n",
    "model.compile(loss=#choose your loss function,\n",
    "              optimizer=#choose your optimizer with learning rate,\n",
    "              metrics=['accuracy']) \n",
    "history_LSTM = model.fit(in_data, out_data, batch_size=64, epochs=15) \n",
    "```"
   ]
  },
  {
   "cell_type": "markdown",
   "metadata": {},
   "source": [
    "### Build a network with GRU cell"
   ]
  },
  {
   "cell_type": "code",
   "execution_count": 17,
   "metadata": {},
   "outputs": [],
   "source": [
    "in_data, out_data = create_xnor_dataset(1000) # create a dataset with batch size of 1000"
   ]
  },
  {
   "cell_type": "code",
   "execution_count": 51,
   "metadata": {},
   "outputs": [
    {
     "name": "stdout",
     "output_type": "stream",
     "text": [
      "Model: \"sequential_27\"\n",
      "_________________________________________________________________\n",
      " Layer (type)                Output Shape              Param #   \n",
      "=================================================================\n",
      " gru_5 (GRU)                 (None, 8, 128)            50304     \n",
      "                                                                 \n",
      " dense_46 (Dense)            (None, 8, 64)             8256      \n",
      "                                                                 \n",
      " dense_47 (Dense)            (None, 8, 1)              65        \n",
      "                                                                 \n",
      "=================================================================\n",
      "Total params: 58,625\n",
      "Trainable params: 58,625\n",
      "Non-trainable params: 0\n",
      "_________________________________________________________________\n",
      "Epoch 1/70\n",
      "16/16 [==============================] - 1s 8ms/step - loss: 0.6909 - accuracy: 0.5477\n",
      "Epoch 2/70\n",
      "16/16 [==============================] - 0s 8ms/step - loss: 0.6846 - accuracy: 0.5634\n",
      "Epoch 3/70\n",
      "16/16 [==============================] - 0s 8ms/step - loss: 0.6766 - accuracy: 0.5696\n",
      "Epoch 4/70\n",
      "16/16 [==============================] - 0s 7ms/step - loss: 0.6658 - accuracy: 0.5690\n",
      "Epoch 5/70\n",
      "16/16 [==============================] - 0s 8ms/step - loss: 0.6474 - accuracy: 0.5717\n",
      "Epoch 6/70\n",
      "16/16 [==============================] - 0s 7ms/step - loss: 0.6297 - accuracy: 0.5974\n",
      "Epoch 7/70\n",
      "16/16 [==============================] - 0s 7ms/step - loss: 0.6136 - accuracy: 0.6252\n",
      "Epoch 8/70\n",
      "16/16 [==============================] - 0s 8ms/step - loss: 0.6113 - accuracy: 0.6212\n",
      "Epoch 9/70\n",
      "16/16 [==============================] - 0s 7ms/step - loss: 0.5970 - accuracy: 0.6403\n",
      "Epoch 10/70\n",
      "16/16 [==============================] - 0s 8ms/step - loss: 0.5825 - accuracy: 0.6590\n",
      "Epoch 11/70\n",
      "16/16 [==============================] - 0s 8ms/step - loss: 0.5764 - accuracy: 0.6768\n",
      "Epoch 12/70\n",
      "16/16 [==============================] - 0s 7ms/step - loss: 0.5617 - accuracy: 0.6806\n",
      "Epoch 13/70\n",
      "16/16 [==============================] - 0s 8ms/step - loss: 0.5512 - accuracy: 0.6905\n",
      "Epoch 14/70\n",
      "16/16 [==============================] - 0s 7ms/step - loss: 0.5347 - accuracy: 0.7128\n",
      "Epoch 15/70\n",
      "16/16 [==============================] - 0s 8ms/step - loss: 0.5471 - accuracy: 0.7059\n",
      "Epoch 16/70\n",
      "16/16 [==============================] - 0s 8ms/step - loss: 0.5161 - accuracy: 0.7266\n",
      "Epoch 17/70\n",
      "16/16 [==============================] - 0s 8ms/step - loss: 0.5214 - accuracy: 0.7171\n",
      "Epoch 18/70\n",
      "16/16 [==============================] - 0s 8ms/step - loss: 0.5107 - accuracy: 0.7247\n",
      "Epoch 19/70\n",
      "16/16 [==============================] - 0s 8ms/step - loss: 0.5025 - accuracy: 0.7211\n",
      "Epoch 20/70\n",
      "16/16 [==============================] - 0s 8ms/step - loss: 0.5028 - accuracy: 0.7251\n",
      "Epoch 21/70\n",
      "16/16 [==============================] - 0s 7ms/step - loss: 0.4911 - accuracy: 0.7389\n",
      "Epoch 22/70\n",
      "16/16 [==============================] - 0s 8ms/step - loss: 0.4984 - accuracy: 0.7346\n",
      "Epoch 23/70\n",
      "16/16 [==============================] - 0s 8ms/step - loss: 0.4526 - accuracy: 0.7684\n",
      "Epoch 24/70\n",
      "16/16 [==============================] - 0s 8ms/step - loss: 0.4577 - accuracy: 0.7630\n",
      "Epoch 25/70\n",
      "16/16 [==============================] - 0s 7ms/step - loss: 0.4640 - accuracy: 0.7601\n",
      "Epoch 26/70\n",
      "16/16 [==============================] - 0s 7ms/step - loss: 0.4317 - accuracy: 0.7784\n",
      "Epoch 27/70\n",
      "16/16 [==============================] - 0s 8ms/step - loss: 0.4444 - accuracy: 0.7816\n",
      "Epoch 28/70\n",
      "16/16 [==============================] - 0s 8ms/step - loss: 0.4137 - accuracy: 0.7860\n",
      "Epoch 29/70\n",
      "16/16 [==============================] - 0s 8ms/step - loss: 0.4174 - accuracy: 0.7919\n",
      "Epoch 30/70\n",
      "16/16 [==============================] - 0s 8ms/step - loss: 0.4036 - accuracy: 0.7986\n",
      "Epoch 31/70\n",
      "16/16 [==============================] - 0s 8ms/step - loss: 0.3852 - accuracy: 0.8149\n",
      "Epoch 32/70\n",
      "16/16 [==============================] - 0s 8ms/step - loss: 0.3875 - accuracy: 0.8100\n",
      "Epoch 33/70\n",
      "16/16 [==============================] - 0s 8ms/step - loss: 0.3614 - accuracy: 0.8335\n",
      "Epoch 34/70\n",
      "16/16 [==============================] - 0s 8ms/step - loss: 0.3618 - accuracy: 0.8215\n",
      "Epoch 35/70\n",
      "16/16 [==============================] - 0s 8ms/step - loss: 0.3721 - accuracy: 0.8405\n",
      "Epoch 36/70\n",
      "16/16 [==============================] - 0s 8ms/step - loss: 0.3588 - accuracy: 0.8409\n",
      "Epoch 37/70\n",
      "16/16 [==============================] - 0s 8ms/step - loss: 0.3301 - accuracy: 0.8490\n",
      "Epoch 38/70\n",
      "16/16 [==============================] - 0s 8ms/step - loss: 0.3354 - accuracy: 0.8580\n",
      "Epoch 39/70\n",
      "16/16 [==============================] - 0s 8ms/step - loss: 0.3280 - accuracy: 0.8493\n",
      "Epoch 40/70\n",
      "16/16 [==============================] - 0s 8ms/step - loss: 0.3041 - accuracy: 0.8644\n",
      "Epoch 41/70\n",
      "16/16 [==============================] - 0s 8ms/step - loss: 0.3012 - accuracy: 0.8773\n",
      "Epoch 42/70\n",
      "16/16 [==============================] - 0s 7ms/step - loss: 0.3084 - accuracy: 0.8711\n",
      "Epoch 43/70\n",
      "16/16 [==============================] - 0s 8ms/step - loss: 0.2697 - accuracy: 0.9004\n",
      "Epoch 44/70\n",
      "16/16 [==============================] - 0s 8ms/step - loss: 0.2944 - accuracy: 0.8873\n",
      "Epoch 45/70\n",
      "16/16 [==============================] - 0s 8ms/step - loss: 0.3059 - accuracy: 0.8841\n",
      "Epoch 46/70\n",
      "16/16 [==============================] - 0s 8ms/step - loss: 0.2812 - accuracy: 0.8896\n",
      "Epoch 47/70\n",
      "16/16 [==============================] - 0s 8ms/step - loss: 0.2723 - accuracy: 0.8928\n",
      "Epoch 48/70\n",
      "16/16 [==============================] - 0s 7ms/step - loss: 0.2545 - accuracy: 0.9107\n",
      "Epoch 49/70\n",
      "16/16 [==============================] - 0s 8ms/step - loss: 0.2607 - accuracy: 0.9064\n",
      "Epoch 50/70\n",
      "16/16 [==============================] - 0s 8ms/step - loss: 0.2442 - accuracy: 0.9046\n",
      "Epoch 51/70\n",
      "16/16 [==============================] - 0s 8ms/step - loss: 0.2510 - accuracy: 0.9090\n",
      "Epoch 52/70\n",
      "16/16 [==============================] - 0s 8ms/step - loss: 0.2460 - accuracy: 0.9175\n",
      "Epoch 53/70\n",
      "16/16 [==============================] - 0s 8ms/step - loss: 0.2471 - accuracy: 0.9166\n",
      "Epoch 54/70\n",
      "16/16 [==============================] - 0s 8ms/step - loss: 0.2482 - accuracy: 0.9165\n",
      "Epoch 55/70\n",
      "16/16 [==============================] - 0s 8ms/step - loss: 0.2594 - accuracy: 0.9056\n",
      "Epoch 56/70\n",
      "16/16 [==============================] - 0s 8ms/step - loss: 0.2072 - accuracy: 0.9309\n",
      "Epoch 57/70\n",
      "16/16 [==============================] - 0s 8ms/step - loss: 0.1900 - accuracy: 0.9389\n",
      "Epoch 58/70\n",
      "16/16 [==============================] - 0s 8ms/step - loss: 0.2032 - accuracy: 0.9327\n",
      "Epoch 59/70\n",
      "16/16 [==============================] - 0s 8ms/step - loss: 0.2149 - accuracy: 0.9284\n",
      "Epoch 60/70\n",
      "16/16 [==============================] - 0s 8ms/step - loss: 0.2103 - accuracy: 0.9325\n",
      "Epoch 61/70\n",
      "16/16 [==============================] - 0s 11ms/step - loss: 0.1999 - accuracy: 0.9317\n",
      "Epoch 62/70\n",
      "16/16 [==============================] - 0s 9ms/step - loss: 0.1965 - accuracy: 0.9358\n",
      "Epoch 63/70\n",
      "16/16 [==============================] - 0s 8ms/step - loss: 0.1948 - accuracy: 0.9350\n",
      "Epoch 64/70\n",
      "16/16 [==============================] - 0s 8ms/step - loss: 0.2011 - accuracy: 0.9354\n",
      "Epoch 65/70\n",
      "16/16 [==============================] - 0s 8ms/step - loss: 0.1827 - accuracy: 0.9391\n",
      "Epoch 66/70\n",
      "16/16 [==============================] - 0s 8ms/step - loss: 0.2359 - accuracy: 0.9287\n",
      "Epoch 67/70\n",
      "16/16 [==============================] - 0s 8ms/step - loss: 0.2190 - accuracy: 0.9299\n",
      "Epoch 68/70\n",
      "16/16 [==============================] - 0s 8ms/step - loss: 0.1903 - accuracy: 0.9482\n",
      "Epoch 69/70\n",
      "16/16 [==============================] - 0s 8ms/step - loss: 0.2038 - accuracy: 0.9309\n",
      "Epoch 70/70\n",
      "16/16 [==============================] - 0s 8ms/step - loss: 0.2183 - accuracy: 0.9329\n"
     ]
    }
   ],
   "source": [
    "###################################################\n",
    "# TODO: build a model with GRU cell and train it. #\n",
    "#                                                 #\n",
    "###################################################\n",
    "\n",
    "model = tf.keras.Sequential()\n",
    "model.add(tf.keras.layers.GRU(128, input_shape=(8, 1), activation='relu', return_sequences=True, dropout=0.2, recurrent_dropout=0.2))\n",
    "model.add(tf.keras.layers.Dense(64))\n",
    "model.add(tf.keras.layers.Dense(1, activation=\"sigmoid\"))\n",
    "\n",
    "model.summary()\n",
    "model.compile(loss=tf.keras.losses.BinaryCrossentropy(),\n",
    "              optimizer='adam',\n",
    "              metrics=['accuracy'])\n",
    "history_GRU = model.fit(in_data, out_data, batch_size=64, epochs=70)\n",
    "\n",
    "###################################################\n",
    "# END TODO                                        #\n",
    "###################################################"
   ]
  },
  {
   "cell_type": "markdown",
   "metadata": {},
   "source": [
    "#### Hint for creating a model with GRU cell\n",
    "```\n",
    "model = tf.keras.Sequential()\n",
    "model.add(# insert layer 1)\n",
    "model.add(# insert layer 2)\n",
    "model.add(# insert more layers)\n",
    "model.add(# insert output layer)\n",
    "\n",
    "model.summary()\n",
    "model.compile(loss=#choose your loss function,\n",
    "              optimizer=#choose your optimizer with learning rate,\n",
    "              metrics=['accuracy'])\n",
    "history_GRU = model.fit(in_data, out_data, batch_size=64, epochs=15)\n",
    "```"
   ]
  },
  {
   "cell_type": "markdown",
   "metadata": {},
   "source": [
    "### Visualize loss and accuracy"
   ]
  },
  {
   "cell_type": "code",
   "execution_count": 52,
   "metadata": {},
   "outputs": [
    {
     "data": {
      "image/png": "[encoded data removed]",
      "text/plain": [
       "<Figure size 432x288 with 1 Axes>"
      ]
     },
     "metadata": {
      "needs_background": "dark"
     },
     "output_type": "display_data"
    }
   ],
   "source": [
    "plt.plot(history_LSTM.history['loss'], label='LSTM')\n",
    "plt.plot(history_GRU.history['loss'], label='GRU')\n",
    "plt.title('LSTM/GRU loss')\n",
    "plt.ylabel('loss')\n",
    "plt.xlabel('No. epoch')\n",
    "plt.legend(loc=\"upper left\")\n",
    "plt.show()"
   ]
  },
  {
   "cell_type": "code",
   "execution_count": 53,
   "metadata": {},
   "outputs": [
    {
     "data": {
      "image/png": "[encoded data removed]",
      "text/plain": [
       "<Figure size 432x288 with 1 Axes>"
      ]
     },
     "metadata": {
      "needs_background": "dark"
     },
     "output_type": "display_data"
    }
   ],
   "source": [
    "plt.plot(history_LSTM.history['accuracy'], label='LSTM')\n",
    "plt.plot(history_GRU.history['accuracy'], label='GRU')\n",
    "plt.title('LSTM/GRU accuracy')\n",
    "plt.ylabel('accuracy')\n",
    "plt.xlabel('No. epoch')\n",
    "plt.legend(loc=\"upper left\")\n",
    "plt.show()"
   ]
  },
  {
   "cell_type": "markdown",
   "metadata": {},
   "source": [
    "<span style=\"color:red\">__TODO:__</span> Answer the question:"
   ]
  },
  {
   "cell_type": "markdown",
   "metadata": {},
   "source": [
    "Which part of this task have you been struggling with most of the  time? Describe how you resolved it."
   ]
  },
  {
   "cell_type": "markdown",
   "metadata": {},
   "source": [
    "<span style=\"color:red\">__SOLUTION:__</span>"
   ]
  },
  {
   "cell_type": "markdown",
   "metadata": {},
   "source": []
  },
  {
   "cell_type": "markdown",
   "metadata": {},
   "source": [
    "<span style=\"color:red\">__TODO:__</span> Answer the question:"
   ]
  },
  {
   "cell_type": "markdown",
   "metadata": {},
   "source": [
    "Which loss function did you use? Why?"
   ]
  },
  {
   "cell_type": "markdown",
   "metadata": {},
   "source": [
    "<span style=\"color:red\">__SOLUTION:__</span>"
   ]
  },
  {
   "cell_type": "markdown",
   "metadata": {},
   "source": []
  },
  {
   "cell_type": "markdown",
   "metadata": {},
   "source": [
    "## Part 3 :  Build your own LSTMCell\n",
    "In this part, you need to build your own LSTM cell to achieve the LSTM functionality (including different types of gates that constitute the cell).\n",
    "\n",
    "You should refer to the materials on how the LSTM cell works  - with its cell states, activation functions and kernels. \n",
    "<br>Please see the course slides or the website https://colah.github.io/posts/2015-08-Understanding-LSTMs/.\n",
    "\n",
    "<span style=\"color:red\">TODO:</span> \n",
    "1. Complete the function **LSTM_step** in utils/xnor/LSTM_step.py;\n",
    "2. Verify the function by running the provided code.\n",
    "3. Use the same way (as described above) to build the model and to train it.\n"
   ]
  },
  {
   "cell_type": "code",
   "execution_count": 44,
   "metadata": {},
   "outputs": [
    {
     "name": "stdout",
     "output_type": "stream",
     "text": [
      "Simple verification:\n",
      "Is h correct? True\n",
      "Is c correct? True\n"
     ]
    }
   ],
   "source": [
    "from utils.xnor.LSTM_step import LSTM_step\n",
    "\n",
    "cell_inputs = np.ones((1,1))\n",
    "cell_states = [0.2*np.ones((1,64)), np.zeros((1,64))]\n",
    "kernel = 0.1*np.ones((1,256))\n",
    "recurrent_kernel = 0.1*np.ones((64,256))\n",
    "bias = np.zeros(256)\n",
    "\n",
    "h , [h,c] = LSTM_step(cell_inputs, cell_states, kernel, recurrent_kernel, bias)\n",
    "print('Simple verification:')\n",
    "print('Is h correct?', np.isclose(h.numpy()[0][0],0.48484358))\n",
    "print('Is c correct?', np.isclose(c.numpy()[0][0],0.70387213))"
   ]
  },
  {
   "cell_type": "code",
   "execution_count": 41,
   "metadata": {},
   "outputs": [],
   "source": [
    "in_data, out_data = create_xnor_dataset(1000) # create a dataset with a batch size of 1000"
   ]
  },
  {
   "cell_type": "code",
   "execution_count": 42,
   "metadata": {},
   "outputs": [
    {
     "name": "stdout",
     "output_type": "stream",
     "text": [
      "Model: \"sequential_23\"\n",
      "_________________________________________________________________\n",
      " Layer (type)                Output Shape              Param #   \n",
      "=================================================================\n",
      " lstm_21 (LSTM)              (None, 8, 128)            66560     \n",
      "                                                                 \n",
      " dense_38 (Dense)            (None, 8, 64)             8256      \n",
      "                                                                 \n",
      " dense_39 (Dense)            (None, 8, 1)              65        \n",
      "                                                                 \n",
      "=================================================================\n",
      "Total params: 74,881\n",
      "Trainable params: 74,881\n",
      "Non-trainable params: 0\n",
      "_________________________________________________________________\n",
      "Epoch 1/70\n",
      "16/16 [==============================] - 1s 9ms/step - loss: 0.6921 - accuracy: 0.5621\n",
      "Epoch 2/70\n",
      "16/16 [==============================] - 0s 8ms/step - loss: 0.6900 - accuracy: 0.5659\n",
      "Epoch 3/70\n",
      "16/16 [==============================] - 0s 8ms/step - loss: 0.6865 - accuracy: 0.5666\n",
      "Epoch 4/70\n",
      "16/16 [==============================] - 0s 9ms/step - loss: 0.6778 - accuracy: 0.5767\n",
      "Epoch 5/70\n",
      "16/16 [==============================] - 0s 9ms/step - loss: 0.6629 - accuracy: 0.5853\n",
      "Epoch 6/70\n",
      "16/16 [==============================] - 0s 9ms/step - loss: 0.6480 - accuracy: 0.5847\n",
      "Epoch 7/70\n",
      "16/16 [==============================] - 0s 9ms/step - loss: 0.6317 - accuracy: 0.5861\n",
      "Epoch 8/70\n",
      "16/16 [==============================] - 0s 9ms/step - loss: 0.6280 - accuracy: 0.5851\n",
      "Epoch 9/70\n",
      "16/16 [==============================] - 0s 13ms/step - loss: 0.6357 - accuracy: 0.5899\n",
      "Epoch 10/70\n",
      "16/16 [==============================] - 0s 9ms/step - loss: 0.6184 - accuracy: 0.6202\n",
      "Epoch 11/70\n",
      "16/16 [==============================] - 0s 9ms/step - loss: 0.6091 - accuracy: 0.6246\n",
      "Epoch 12/70\n",
      "16/16 [==============================] - 0s 9ms/step - loss: 0.6039 - accuracy: 0.6339\n",
      "Epoch 13/70\n",
      "16/16 [==============================] - 0s 9ms/step - loss: 0.6016 - accuracy: 0.6300\n",
      "Epoch 14/70\n",
      "16/16 [==============================] - 0s 8ms/step - loss: 0.6052 - accuracy: 0.6259\n",
      "Epoch 15/70\n",
      "16/16 [==============================] - 0s 8ms/step - loss: 0.5956 - accuracy: 0.6311\n",
      "Epoch 16/70\n",
      "16/16 [==============================] - 0s 9ms/step - loss: 0.5860 - accuracy: 0.6411\n",
      "Epoch 17/70\n",
      "16/16 [==============================] - 0s 8ms/step - loss: 0.5840 - accuracy: 0.6429\n",
      "Epoch 18/70\n",
      "16/16 [==============================] - 0s 9ms/step - loss: 0.5678 - accuracy: 0.6557\n",
      "Epoch 19/70\n",
      "16/16 [==============================] - 0s 9ms/step - loss: 0.5710 - accuracy: 0.6559\n",
      "Epoch 20/70\n",
      "16/16 [==============================] - 0s 9ms/step - loss: 0.5622 - accuracy: 0.6643\n",
      "Epoch 21/70\n",
      "16/16 [==============================] - 0s 8ms/step - loss: 0.5573 - accuracy: 0.6647\n",
      "Epoch 22/70\n",
      "16/16 [==============================] - 0s 8ms/step - loss: 0.5490 - accuracy: 0.6741\n",
      "Epoch 23/70\n",
      "16/16 [==============================] - 0s 9ms/step - loss: 0.5212 - accuracy: 0.6927\n",
      "Epoch 24/70\n",
      "16/16 [==============================] - 0s 9ms/step - loss: 0.5109 - accuracy: 0.7001\n",
      "Epoch 25/70\n",
      "16/16 [==============================] - 0s 9ms/step - loss: 0.4975 - accuracy: 0.7143\n",
      "Epoch 26/70\n",
      "16/16 [==============================] - 0s 9ms/step - loss: 0.4858 - accuracy: 0.7228\n",
      "Epoch 27/70\n",
      "16/16 [==============================] - 0s 9ms/step - loss: 0.4716 - accuracy: 0.7337\n",
      "Epoch 28/70\n",
      "16/16 [==============================] - 0s 9ms/step - loss: 0.4507 - accuracy: 0.7567\n",
      "Epoch 29/70\n",
      "16/16 [==============================] - 0s 9ms/step - loss: 0.4436 - accuracy: 0.7646\n",
      "Epoch 30/70\n",
      "16/16 [==============================] - 0s 9ms/step - loss: 0.4181 - accuracy: 0.7765\n",
      "Epoch 31/70\n",
      "16/16 [==============================] - 0s 9ms/step - loss: 0.4306 - accuracy: 0.7796\n",
      "Epoch 32/70\n",
      "16/16 [==============================] - 0s 9ms/step - loss: 0.3933 - accuracy: 0.7985\n",
      "Epoch 33/70\n",
      "16/16 [==============================] - 0s 9ms/step - loss: 0.3830 - accuracy: 0.8149\n",
      "Epoch 34/70\n",
      "16/16 [==============================] - 0s 9ms/step - loss: 0.3637 - accuracy: 0.8240\n",
      "Epoch 35/70\n",
      "16/16 [==============================] - 0s 9ms/step - loss: 0.3656 - accuracy: 0.8209\n",
      "Epoch 36/70\n",
      "16/16 [==============================] - 0s 9ms/step - loss: 0.3547 - accuracy: 0.8274\n",
      "Epoch 37/70\n",
      "16/16 [==============================] - 0s 9ms/step - loss: 0.3277 - accuracy: 0.8496\n",
      "Epoch 38/70\n",
      "16/16 [==============================] - 0s 9ms/step - loss: 0.3477 - accuracy: 0.8441\n",
      "Epoch 39/70\n",
      "16/16 [==============================] - 0s 9ms/step - loss: 0.3111 - accuracy: 0.8619\n",
      "Epoch 40/70\n",
      "16/16 [==============================] - 0s 9ms/step - loss: 0.3027 - accuracy: 0.8694\n",
      "Epoch 41/70\n",
      "16/16 [==============================] - 0s 9ms/step - loss: 0.2673 - accuracy: 0.8920\n",
      "Epoch 42/70\n",
      "16/16 [==============================] - 0s 9ms/step - loss: 0.2832 - accuracy: 0.8767\n",
      "Epoch 43/70\n",
      "16/16 [==============================] - 0s 9ms/step - loss: 0.2984 - accuracy: 0.8751\n",
      "Epoch 44/70\n",
      "16/16 [==============================] - 0s 9ms/step - loss: 0.2791 - accuracy: 0.8850\n",
      "Epoch 45/70\n",
      "16/16 [==============================] - 0s 9ms/step - loss: 0.2457 - accuracy: 0.8965\n",
      "Epoch 46/70\n",
      "16/16 [==============================] - 0s 9ms/step - loss: 0.2592 - accuracy: 0.9022\n",
      "Epoch 47/70\n",
      "16/16 [==============================] - 0s 9ms/step - loss: 0.2487 - accuracy: 0.8979\n",
      "Epoch 48/70\n",
      "16/16 [==============================] - 0s 10ms/step - loss: 0.2339 - accuracy: 0.9095\n",
      "Epoch 49/70\n",
      "16/16 [==============================] - 0s 9ms/step - loss: 0.2032 - accuracy: 0.9205\n",
      "Epoch 50/70\n",
      "16/16 [==============================] - 0s 9ms/step - loss: 0.2254 - accuracy: 0.9122\n",
      "Epoch 51/70\n",
      "16/16 [==============================] - 0s 9ms/step - loss: 0.2235 - accuracy: 0.9236\n",
      "Epoch 52/70\n",
      "16/16 [==============================] - 0s 9ms/step - loss: 0.1699 - accuracy: 0.9381\n",
      "Epoch 53/70\n",
      "16/16 [==============================] - 0s 9ms/step - loss: 0.2087 - accuracy: 0.9312\n",
      "Epoch 54/70\n",
      "16/16 [==============================] - 0s 10ms/step - loss: 0.1949 - accuracy: 0.9304\n",
      "Epoch 55/70\n",
      "16/16 [==============================] - 0s 9ms/step - loss: 0.2089 - accuracy: 0.9335\n",
      "Epoch 56/70\n",
      "16/16 [==============================] - 0s 9ms/step - loss: 0.1824 - accuracy: 0.9333\n",
      "Epoch 57/70\n",
      "16/16 [==============================] - 0s 9ms/step - loss: 0.1663 - accuracy: 0.9386\n",
      "Epoch 58/70\n",
      "16/16 [==============================] - 0s 9ms/step - loss: 0.1642 - accuracy: 0.9451\n",
      "Epoch 59/70\n",
      "16/16 [==============================] - 0s 9ms/step - loss: 0.1761 - accuracy: 0.9399\n",
      "Epoch 60/70\n",
      "16/16 [==============================] - 0s 9ms/step - loss: 0.1613 - accuracy: 0.9464\n",
      "Epoch 61/70\n",
      "16/16 [==============================] - 0s 10ms/step - loss: 0.2213 - accuracy: 0.9285\n",
      "Epoch 62/70\n",
      "16/16 [==============================] - 0s 9ms/step - loss: 0.1751 - accuracy: 0.9380\n",
      "Epoch 63/70\n",
      "16/16 [==============================] - 0s 9ms/step - loss: 0.1896 - accuracy: 0.9395\n",
      "Epoch 64/70\n",
      "16/16 [==============================] - 0s 9ms/step - loss: 0.1569 - accuracy: 0.9491\n",
      "Epoch 65/70\n",
      "16/16 [==============================] - 0s 11ms/step - loss: 0.1739 - accuracy: 0.9455\n",
      "Epoch 66/70\n",
      "16/16 [==============================] - 0s 9ms/step - loss: 0.1675 - accuracy: 0.9436\n",
      "Epoch 67/70\n",
      "16/16 [==============================] - 0s 9ms/step - loss: 0.1495 - accuracy: 0.9525\n",
      "Epoch 68/70\n",
      "16/16 [==============================] - 0s 10ms/step - loss: 0.1576 - accuracy: 0.9561\n",
      "Epoch 69/70\n",
      "16/16 [==============================] - 0s 10ms/step - loss: 0.1386 - accuracy: 0.9571\n",
      "Epoch 70/70\n",
      "16/16 [==============================] - 0s 10ms/step - loss: 0.1394 - accuracy: 0.9588\n"
     ]
    }
   ],
   "source": [
    "###################################################\n",
    "# TODO: build a network with LSTM cell and train it.#\n",
    "#                                                 #\n",
    "###################################################\n",
    "model = tf.keras.Sequential()\n",
    "model.add(tf.keras.layers.LSTM(128, input_shape=(8, 1), activation='relu', return_sequences=True, dropout=0.2, recurrent_dropout=0.2))\n",
    "model.add(tf.keras.layers.Dense(64))\n",
    "model.add(tf.keras.layers.Dense(1, activation=\"sigmoid\"))\n",
    "\n",
    "model.summary()\n",
    "model.compile(loss=tf.keras.losses.BinaryCrossentropy(),\n",
    "              optimizer='adam',\n",
    "              metrics=['accuracy'])\n",
    "history = model.fit(in_data, out_data, batch_size=64, epochs=70)\n",
    "\n",
    "###################################################\n",
    "# END TODO                                        #\n",
    "###################################################"
   ]
  },
  {
   "cell_type": "markdown",
   "metadata": {},
   "source": [
    "#### Hint for building a model with LSTM cell\n",
    "```\n",
    "model = tf.keras.Sequential()\n",
    "model.add(# insert layer 1)\n",
    "model.add(# insert layer 2)\n",
    "model.add(# insert more layers)\n",
    "model.add(# insert output layer)\n",
    "\n",
    "model.summary()\n",
    "model.compile(loss=#choose your loss function,\n",
    "              optimizer=#choose your optimizer with learning rate,\n",
    "              metrics=['accuracy'])\n",
    "history = model.fit(in_data, out_data, batch_size=64, epochs=15)\n",
    "```"
   ]
  },
  {
   "cell_type": "markdown",
   "metadata": {},
   "source": [
    "### Visualize loss and accuracy"
   ]
  },
  {
   "cell_type": "code",
   "execution_count": 43,
   "metadata": {},
   "outputs": [
    {
     "data": {
      "image/png": "[encoded data removed]",
      "text/plain": [
       "<Figure size 432x288 with 1 Axes>"
      ]
     },
     "metadata": {
      "needs_background": "dark"
     },
     "output_type": "display_data"
    }
   ],
   "source": [
    "plt.plot(history.history['loss'], label='loss')\n",
    "plt.plot(history.history['accuracy'], label='accuracy')\n",
    "plt.title('Training history')\n",
    "plt.ylabel('value')\n",
    "plt.xlabel('No. epoch')\n",
    "plt.legend(loc=\"upper left\")\n",
    "plt.show()"
   ]
  }
 ],
 "metadata": {
  "kernelspec": {
   "display_name": "Python 3",
   "language": "python",
   "name": "python3"
  },
  "language_info": {
   "codemirror_mode": {
    "name": "ipython",
    "version": 3
   },
   "file_extension": ".py",
   "mimetype": "text/x-python",
   "name": "python",
   "nbconvert_exporter": "python",
   "pygments_lexer": "ipython3",
   "version": "3.7.10"
  }
 },
 "nbformat": 4,
 "nbformat_minor": 4
}
