{
 "cells": [
  {
   "cell_type": "markdown",
   "metadata": {
    "id": "raLwbLFaRvOR"
   },
   "source": [
    "### **Columbia University**\n",
    "### **ECBM E4040 Neural Networks and Deep Learning. Fall 2021.**"
   ]
  },
  {
   "cell_type": "markdown",
   "metadata": {
    "id": "JJCMCx6ISZZw"
   },
   "source": [
    "## **Task 2: RNN application -- Tweet Sentiment Analysis**"
   ]
  },
  {
   "cell_type": "markdown",
   "metadata": {
    "id": "u8wjQhNtSffW"
   },
   "source": [
    "In this task, you are going to classify the sentiment in tweets into positive and negative using an LSTM model. The code to load the data and see its characteristics has been provided to you. \n",
    "\n",
    "In the first task, you will encode the data using using one hot encoding and train an LSTM network to classify the sentiment. In the second task, you will replace the one hot encoding with an embedding layer and train another LSTM model. You will then extract the trained embeddings and visualize the word embeddings in 2 dimensions by using TSNE for dimenssionality redution. "
   ]
  },
  {
   "cell_type": "code",
   "execution_count": 1,
   "metadata": {
    "id": "UZ_G4XdfP7GK"
   },
   "outputs": [],
   "source": [
    "# Import modules\n",
    "from __future__ import print_function\n",
    "import tensorflow as tf\n",
    "import numpy as np\n",
    "import json\n",
    "import time\n",
    "import matplotlib.pyplot as plt\n",
    "import pickle\n",
    "\n",
    "%matplotlib inline\n",
    "\n",
    "%load_ext autoreload\n",
    "%autoreload 2"
   ]
  },
  {
   "cell_type": "markdown",
   "metadata": {
    "id": "6MjTYqMoN8fh"
   },
   "source": [
    "## Load Data\n"
   ]
  },
  {
   "cell_type": "code",
   "execution_count": 2,
   "metadata": {
    "colab": {
     "base_uri": "https://localhost:8080/"
    },
    "id": "F55EwI6RQl1A",
    "outputId": "1e087591-3dad-4471-97df-d9af9214dddb"
   },
   "outputs": [
    {
     "name": "stdout",
     "output_type": "stream",
     "text": [
      "size of original train set: 60000\n",
      "size of original test set: 20000\n",
      "****************************************************************************************************\n",
      "size of train set: 60000, #positive: 30055, #negative: 29945\n",
      "size of test set: 1000, #positive: 510, #negative: 490\n",
      "['it', 'will', 'help', 'relieve', 'your', 'stress', 'padtoken', 'padtoken', 'padtoken', 'padtoken', 'padtoken', 'padtoken', 'padtoken', 'padtoken', 'padtoken', 'padtoken', 'padtoken', 'padtoken', 'padtoken', 'padtoken']\n",
      "sentiment: positive\n"
     ]
    }
   ],
   "source": [
    "with open(\"./tweets_data/vocabulary.pkl\", \"rb\") as f:\n",
    "    vocabulary = pickle.load(f)\n",
    "\n",
    "# load our data and separate it into tweets and labels\n",
    "train_data = json.load(open('tweets_data/trainTweets_preprocessed.json', 'r'))\n",
    "train_data = list(map(lambda row:(np.array(row[0],dtype=np.int32),str(row[1])),train_data))\n",
    "train_tweets = np.array([t[0] for t in train_data])\n",
    "train_labels = np.array([int(t[1]) for t in train_data])\n",
    "\n",
    "test_data = json.load(open('tweets_data/testTweets_preprocessed.json', 'r'))\n",
    "test_data = list(map(lambda row:(np.array(row[0],dtype=np.int32),str(row[1])),test_data))\n",
    "test_tweets = np.array([t[0] for t in test_data])\n",
    "test_labels = np.array([int(t[1]) for t in test_data])\n",
    "\n",
    "print(\"size of original train set: {}\".format(len(train_tweets)))\n",
    "print(\"size of original test set: {}\".format(len(test_tweets)))\n",
    "\n",
    "# only select first 1000 test sample for test\n",
    "test_tweets = test_tweets[:1000]\n",
    "test_labels = test_labels[:1000]\n",
    "\n",
    "print(\"*\"*100)\n",
    "print(\"size of train set: {}, #positive: {}, #negative: {}\".format(len(train_tweets), np.sum(train_labels), len(train_tweets)-np.sum(train_labels)))\n",
    "print(\"size of test set: {}, #positive: {}, #negative: {}\".format(len(test_tweets), np.sum(test_labels), len(test_tweets)-np.sum(test_labels)))\n",
    "\n",
    "# show text of the idx-th train tweet\n",
    "# The 'padtoken' is used to ensure each tweet has the same length\n",
    "idx = 100\n",
    "train_text = [vocabulary[x] for x in train_tweets[idx]]\n",
    "print(train_text)\n",
    "sentiment_label = [\"negative\", \"positive\"]\n",
    "print(\"sentiment: {}\".format(sentiment_label[train_labels[idx]]))"
   ]
  },
  {
   "cell_type": "code",
   "execution_count": 103,
   "metadata": {},
   "outputs": [
    {
     "data": {
      "text/plain": [
       "array([  10,   53,  221, 2727,   41, 1418,    1,    1,    1,    1,    1,\n",
       "          1,    1,    1,    1,    1,    1,    1,    1,    1])"
      ]
     },
     "execution_count": 103,
     "metadata": {},
     "output_type": "execute_result"
    }
   ],
   "source": [
    "train_tweets[100]"
   ]
  },
  {
   "cell_type": "markdown",
   "metadata": {
    "id": "dmjy9sPDOCnY"
   },
   "source": [
    "## **Part 1 LSTM Encoder**\n",
    "\n",
    "**TODO**: Create a single-layer LSTM network to classify tweets. Use one hot encoding to represent each word in the tweet. Set LSTM units to 100. Use Adam optimizer and set batch size to 64.\n",
    "\n",
    "https://www.tensorflow.org/api_docs/python/tf/keras/layers/LSTM\n",
    "\n",
    "With these settings, what accuracy could you get? You can try to change some stuff in the network to see if you could get a better accuracy (this is optional). \n",
    "\n",
    "(tf.one_hot and Keras functional API may be useful)."
   ]
  },
  {
   "cell_type": "code",
   "execution_count": 15,
   "metadata": {},
   "outputs": [
    {
     "name": "stdout",
     "output_type": "stream",
     "text": [
      "(None, 20)\n",
      "(None, 20, 7597) KerasTensor(type_spec=TensorSpec(shape=(None, 20, 7597), dtype=tf.int32, name=None), name='lambda_12/one_hot:0', description=\"created by layer 'lambda_12'\")\n",
      "(None, 100)\n",
      "\n",
      "Start of epoch 0\n",
      "Training loss (for one batch) at step 0: 0.6927\n",
      "Seen so far: 64 samples\n",
      "Training loss (for one batch) at step 400: 0.6821\n",
      "Seen so far: 25664 samples\n",
      "Training loss (for one batch) at step 800: 0.6703\n",
      "Seen so far: 51264 samples\n",
      "Training acc over epoch: 0.6179\n",
      "Validation acc: 0.6010\n",
      "Time taken: 368.64s\n",
      "\n",
      "Start of epoch 1\n",
      "Training loss (for one batch) at step 0: 0.6852\n",
      "Seen so far: 64 samples\n",
      "Training loss (for one batch) at step 400: 0.6698\n",
      "Seen so far: 25664 samples\n",
      "Training loss (for one batch) at step 800: 0.6447\n",
      "Seen so far: 51264 samples\n",
      "Training acc over epoch: 0.5503\n",
      "Validation acc: 0.4879\n",
      "Time taken: 417.05s\n",
      "\n",
      "Start of epoch 2\n",
      "Training loss (for one batch) at step 0: 0.6930\n",
      "Seen so far: 64 samples\n",
      "Training loss (for one batch) at step 400: 0.6754\n",
      "Seen so far: 25664 samples\n",
      "Training loss (for one batch) at step 800: 0.6475\n",
      "Seen so far: 51264 samples\n",
      "Training acc over epoch: 0.5959\n",
      "Validation acc: 0.6328\n",
      "Time taken: 2322.49s\n",
      "\n",
      "Start of epoch 3\n",
      "Training loss (for one batch) at step 0: 0.6724\n",
      "Seen so far: 64 samples\n",
      "Training loss (for one batch) at step 400: 0.6218\n",
      "Seen so far: 25664 samples\n",
      "Training loss (for one batch) at step 800: 0.6617\n",
      "Seen so far: 51264 samples\n",
      "Training acc over epoch: 0.6584\n",
      "Validation acc: 0.6588\n",
      "Time taken: 424.26s\n",
      "\n",
      "Start of epoch 4\n",
      "Training loss (for one batch) at step 0: 0.6603\n",
      "Seen so far: 64 samples\n",
      "Training loss (for one batch) at step 400: 0.6570\n",
      "Seen so far: 25664 samples\n",
      "Training loss (for one batch) at step 800: 0.6291\n",
      "Seen so far: 51264 samples\n",
      "Training acc over epoch: 0.6984\n",
      "Validation acc: 0.7451\n",
      "Time taken: 474.43s\n",
      "\n",
      "Start of epoch 5\n",
      "Training loss (for one batch) at step 0: 0.5760\n",
      "Seen so far: 64 samples\n",
      "Training loss (for one batch) at step 400: 0.5424\n",
      "Seen so far: 25664 samples\n",
      "Training loss (for one batch) at step 800: 0.6444\n",
      "Seen so far: 51264 samples\n",
      "Training acc over epoch: 0.7426\n",
      "Validation acc: 0.7480\n",
      "Time taken: 450.50s\n",
      "\n",
      "Start of epoch 6\n",
      "Training loss (for one batch) at step 0: 0.5488\n",
      "Seen so far: 64 samples\n",
      "Training loss (for one batch) at step 400: 0.5420\n",
      "Seen so far: 25664 samples\n",
      "Training loss (for one batch) at step 800: 0.5788\n",
      "Seen so far: 51264 samples\n",
      "Training acc over epoch: 0.7611\n",
      "Validation acc: 0.7615\n",
      "Time taken: 445.70s\n",
      "\n",
      "Start of epoch 7\n",
      "Training loss (for one batch) at step 0: 0.5342\n",
      "Seen so far: 64 samples\n",
      "Training loss (for one batch) at step 400: 0.5119\n",
      "Seen so far: 25664 samples\n",
      "Training loss (for one batch) at step 800: 0.5958\n",
      "Seen so far: 51264 samples\n",
      "Training acc over epoch: 0.7808\n",
      "Validation acc: 0.7445\n",
      "Time taken: 879.42s\n",
      "\n",
      "Start of epoch 8\n",
      "Training loss (for one batch) at step 0: 0.5468\n",
      "Seen so far: 64 samples\n",
      "Training loss (for one batch) at step 400: 0.4834\n",
      "Seen so far: 25664 samples\n",
      "Training loss (for one batch) at step 800: 0.5766\n",
      "Seen so far: 51264 samples\n",
      "Training acc over epoch: 0.7964\n",
      "Validation acc: 0.7520\n",
      "Time taken: 383.86s\n",
      "\n",
      "Start of epoch 9\n",
      "Training loss (for one batch) at step 0: 0.4887\n",
      "Seen so far: 64 samples\n",
      "Training loss (for one batch) at step 400: 0.4234\n",
      "Seen so far: 25664 samples\n",
      "Training loss (for one batch) at step 800: 0.5223\n",
      "Seen so far: 51264 samples\n",
      "Training acc over epoch: 0.8083\n",
      "Validation acc: 0.7422\n",
      "Time taken: 642.21s\n"
     ]
    }
   ],
   "source": [
    "batch_size = 64\n",
    "\n",
    "# Prepare the training dataset.\n",
    "train_dataset = tf.data.Dataset.from_tensor_slices((train_tweets, train_labels))\n",
    "train_dataset = train_dataset.batch(batch_size)\n",
    "\n",
    "# Prepare the validation dataset.\n",
    "val_dataset = tf.data.Dataset.from_tensor_slices((test_tweets, test_labels))\n",
    "val_dataset = val_dataset.batch(batch_size)\n",
    "\n",
    "###################################################\n",
    "# TODO: Create a single-layer LSTM network        #\n",
    "#       using One hot encoding                    #\n",
    "###################################################\n",
    "vocab_len = len(vocabulary)\n",
    "embed_dim = 128\n",
    "lstm_out = 100\n",
    "\n",
    "def one_(in_):\n",
    "    # temp = in_.copy()\n",
    "    return tf.one_hot(tf.cast(in_, tf.int32), vocab_len,\n",
    "                        on_value=1, off_value=0,\n",
    "                        axis=-1)  # output: [batch x features x depth] if axis = -1\n",
    "\n",
    "inputs = tf.keras.Input((20,))\n",
    "print(inputs.shape)\n",
    "x = tf.keras.layers.Lambda(lambda i: one_(i))(inputs)\n",
    "print(x.shape, x)\n",
    "x = tf.keras.layers.LSTM(lstm_out, dropout=0.2, recurrent_dropout=0.2)(tf.cast(x, tf.float32))\n",
    "print(x.shape)\n",
    "x = tf.keras.layers.Dense(64,activation='relu')(x)\n",
    "# print(x.shape)\n",
    "den = tf.keras.layers.Dense(1, activation='sigmoid')(x)\n",
    "\n",
    "model = tf.keras.Model(inputs, den)\n",
    "\n",
    "# Instantiate an optimizer.\n",
    "optimizer = tf.keras.optimizers.Adam()\n",
    "# Instantiate a loss function.\n",
    "loss_fn = tf.keras.losses.BinaryCrossentropy()\n",
    "\n",
    "# Prepare the metrics.\n",
    "train_acc_metric = tf.keras.metrics.BinaryAccuracy()\n",
    "val_acc_metric = tf.keras.metrics.BinaryAccuracy()\n",
    "\n",
    "@tf.function\n",
    "def train_step(x, y):\n",
    "    with tf.GradientTape() as tape:\n",
    "        logits = model(x, training=True)\n",
    "        loss_value = loss_fn(y, logits)\n",
    "    grads = tape.gradient(loss_value, model.trainable_weights)\n",
    "    optimizer.apply_gradients(zip(grads, model.trainable_weights))\n",
    "    train_acc_metric.update_state(y, logits)\n",
    "    return loss_value\n",
    "\n",
    "@tf.function\n",
    "def test_step(x, y):\n",
    "    val_logits = model(x, training=False)\n",
    "    val_acc_metric.update_state(y, val_logits)\n",
    "\n",
    "epochs = 10\n",
    "for epoch in range(epochs):\n",
    "    print(\"\\nStart of epoch %d\" % (epoch,))\n",
    "    start_time = time.time()\n",
    "\n",
    "    # Iterate over the batches of the dataset.\n",
    "    for step, (x_batch_train, y_batch_train) in enumerate(train_dataset):\n",
    "        loss_value = train_step(x_batch_train, y_batch_train)\n",
    "\n",
    "        # Log every 400 batches.\n",
    "        if step % 400 == 0:\n",
    "            print(\n",
    "                \"Training loss (for one batch) at step %d: %.4f\"\n",
    "                % (step, float(loss_value))\n",
    "            )\n",
    "            print(\"Seen so far: %d samples\" % ((step + 1) * batch_size))\n",
    "\n",
    "    # Display metrics at the end of each epoch.\n",
    "    train_acc = train_acc_metric.result()\n",
    "    print(\"Training acc over epoch: %.4f\" % (float(train_acc),))\n",
    "\n",
    "    # Reset training metrics at the end of each epoch\n",
    "    train_acc_metric.reset_states()\n",
    "\n",
    "    # Run a validation loop at the end of each epoch.\n",
    "    for x_batch_val, y_batch_val in val_dataset:\n",
    "        test_step(x_batch_val, y_batch_val)\n",
    "\n",
    "    val_acc = val_acc_metric.result()\n",
    "    val_acc_metric.reset_states()\n",
    "    print(\"Validation acc: %.4f\" % (float(val_acc),))\n",
    "    print(\"Time taken: %.2fs\" % (time.time() - start_time))\n",
    "\n",
    "###################################################\n",
    "# END TODO                                        #\n",
    "###################################################"
   ]
  },
  {
   "cell_type": "markdown",
   "metadata": {
    "id": "IBiLRGc7RL-g"
   },
   "source": [
    "## **Part 2: Embedding Lookup layer**\n",
    "\n",
    "**Define an embedding layer**\n",
    "\n",
    "It's not hard to imagine in the previous practices, the input we fed in are very sparse because each word was represented as a one-hot vector. This makes it difficult for the network to understand what story the input data is telling.\n",
    "\n",
    "Word embedding: instead of using a one-hot vector to represent each word, we can add an word embedding matrix in which each word is represented as a low-dimensional vector. Note that this representation is not sparse any more, because we're working in a continuous vector space now. Words that share similar/related semantic meaning should be 'close to each other' in this vector space (we could define a distance measure to estimate the closeness).\n",
    "\n",
    "**TODO**: Define a similar model as above with one change. Use an Embedding layer instead of one hot embedding. Also, write a custom training loop to train the model instead of using model.fit(). Writing a custom loop gives you complete control over how the model is trained. Refer to the link below.\n",
    "\n",
    "https://www.tensorflow.org/guide/keras/writing_a_training_loop_from_scratch\n",
    "\n",
    "Report loss and accuracy for training and validation after each epoch. Also, display the loss value after every 400 steps. \n",
    "\n",
    "Do you see any difference in accuracy? What about training time? What inference can you draw?\n"
   ]
  },
  {
   "cell_type": "markdown",
   "metadata": {
    "id": "FiDynRCc_mqN"
   },
   "source": [
    "Solution:"
   ]
  },
  {
   "cell_type": "code",
   "execution_count": 18,
   "metadata": {},
   "outputs": [],
   "source": [
    "batch_size = 64"
   ]
  },
  {
   "cell_type": "code",
   "execution_count": 19,
   "metadata": {},
   "outputs": [],
   "source": [
    "# Prepare the training dataset.\n",
    "train_dataset = tf.data.Dataset.from_tensor_slices((train_tweets, train_labels))\n",
    "train_dataset = train_dataset.batch(batch_size)\n",
    "\n",
    "# Prepare the validation dataset.\n",
    "val_dataset = tf.data.Dataset.from_tensor_slices((test_tweets, test_labels))\n",
    "val_dataset = val_dataset.batch(batch_size)"
   ]
  },
  {
   "cell_type": "code",
   "execution_count": 46,
   "metadata": {},
   "outputs": [
    {
     "name": "stdout",
     "output_type": "stream",
     "text": [
      "(None, 20)\n",
      "(None, 20, 128)\n",
      "(None, 1)\n",
      "\n",
      "Start of epoch 0\n",
      "Training loss (for one batch) at step 0: 0.6920\n",
      "Seen so far: 64 samples\n",
      "Training loss (for one batch) at step 400: 0.6008\n",
      "Seen so far: 25664 samples\n",
      "Training loss (for one batch) at step 800: 0.5723\n",
      "Seen so far: 51264 samples\n",
      "Training acc over epoch: 0.7260\n",
      "Validation acc: 0.7512\n",
      "Time taken: 23.91s\n",
      "\n",
      "Start of epoch 1\n",
      "Training loss (for one batch) at step 0: 0.4315\n",
      "Seen so far: 64 samples\n",
      "Training loss (for one batch) at step 400: 0.5279\n",
      "Seen so far: 25664 samples\n",
      "Training loss (for one batch) at step 800: 0.5511\n",
      "Seen so far: 51264 samples\n",
      "Training acc over epoch: 0.7806\n",
      "Validation acc: 0.7619\n",
      "Time taken: 22.77s\n",
      "\n",
      "Start of epoch 2\n",
      "Training loss (for one batch) at step 0: 0.3667\n",
      "Seen so far: 64 samples\n",
      "Training loss (for one batch) at step 400: 0.4951\n",
      "Seen so far: 25664 samples\n",
      "Training loss (for one batch) at step 800: 0.4918\n",
      "Seen so far: 51264 samples\n",
      "Training acc over epoch: 0.7960\n",
      "Validation acc: 0.7715\n",
      "Time taken: 23.62s\n",
      "\n",
      "Start of epoch 3\n",
      "Training loss (for one batch) at step 0: 0.3508\n",
      "Seen so far: 64 samples\n",
      "Training loss (for one batch) at step 400: 0.4727\n",
      "Seen so far: 25664 samples\n",
      "Training loss (for one batch) at step 800: 0.5314\n",
      "Seen so far: 51264 samples\n",
      "Training acc over epoch: 0.8104\n",
      "Validation acc: 0.7582\n",
      "Time taken: 23.45s\n",
      "\n",
      "Start of epoch 4\n",
      "Training loss (for one batch) at step 0: 0.3520\n",
      "Seen so far: 64 samples\n",
      "Training loss (for one batch) at step 400: 0.4788\n",
      "Seen so far: 25664 samples\n",
      "Training loss (for one batch) at step 800: 0.4219\n",
      "Seen so far: 51264 samples\n",
      "Training acc over epoch: 0.8222\n",
      "Validation acc: 0.7551\n",
      "Time taken: 23.32s\n",
      "\n",
      "Start of epoch 5\n",
      "Training loss (for one batch) at step 0: 0.2885\n",
      "Seen so far: 64 samples\n",
      "Training loss (for one batch) at step 400: 0.4531\n",
      "Seen so far: 25664 samples\n",
      "Training loss (for one batch) at step 800: 0.4387\n",
      "Seen so far: 51264 samples\n",
      "Training acc over epoch: 0.8322\n",
      "Validation acc: 0.7486\n",
      "Time taken: 23.75s\n",
      "\n",
      "Start of epoch 6\n",
      "Training loss (for one batch) at step 0: 0.3247\n",
      "Seen so far: 64 samples\n",
      "Training loss (for one batch) at step 400: 0.4485\n",
      "Seen so far: 25664 samples\n",
      "Training loss (for one batch) at step 800: 0.4020\n",
      "Seen so far: 51264 samples\n",
      "Training acc over epoch: 0.8438\n",
      "Validation acc: 0.7436\n",
      "Time taken: 23.55s\n",
      "\n",
      "Start of epoch 7\n",
      "Training loss (for one batch) at step 0: 0.2663\n",
      "Seen so far: 64 samples\n",
      "Training loss (for one batch) at step 400: 0.4099\n",
      "Seen so far: 25664 samples\n",
      "Training loss (for one batch) at step 800: 0.3829\n",
      "Seen so far: 51264 samples\n",
      "Training acc over epoch: 0.8491\n",
      "Validation acc: 0.7375\n",
      "Time taken: 24.62s\n",
      "\n",
      "Start of epoch 8\n",
      "Training loss (for one batch) at step 0: 0.2534\n",
      "Seen so far: 64 samples\n",
      "Training loss (for one batch) at step 400: 0.4296\n",
      "Seen so far: 25664 samples\n",
      "Training loss (for one batch) at step 800: 0.3845\n",
      "Seen so far: 51264 samples\n",
      "Training acc over epoch: 0.8548\n",
      "Validation acc: 0.7432\n",
      "Time taken: 24.87s\n",
      "\n",
      "Start of epoch 9\n",
      "Training loss (for one batch) at step 0: 0.3036\n",
      "Seen so far: 64 samples\n",
      "Training loss (for one batch) at step 400: 0.4989\n",
      "Seen so far: 25664 samples\n",
      "Training loss (for one batch) at step 800: 0.3739\n",
      "Seen so far: 51264 samples\n",
      "Training acc over epoch: 0.8586\n",
      "Validation acc: 0.7279\n",
      "Time taken: 25.57s\n"
     ]
    }
   ],
   "source": [
    "###################################################\n",
    "# TODO: Create a single-layer LSTM network        #\n",
    "#       using Embedding layer                     #\n",
    "###################################################\n",
    "\n",
    "# I am using most of the code from https://www.tensorflow.org/guide/keras/writing_a_training_loop_from_scratch\n",
    "\n",
    "vocab_len = len(vocabulary)\n",
    "embed_dim = 128\n",
    "lstm_out = 100\n",
    "\n",
    "inputs = tf.keras.Input((20,))\n",
    "print(inputs.shape)\n",
    "embed = tf.keras.layers.Embedding(vocab_len, embed_dim, input_length=train_tweets.shape[1])(inputs)\n",
    "print(embed.shape)\n",
    "x = tf.keras.layers.SpatialDropout1D(0.4)(embed)\n",
    "# print(x.shape)\n",
    "x = tf.keras.layers.LSTM(lstm_out, dropout=0.2, recurrent_dropout=0.2)(x)\n",
    "# print(x.shape)\n",
    "x = tf.keras.layers.Dense(64,activation='relu')(x)\n",
    "# print(x.shape)\n",
    "den = tf.keras.layers.Dense(1, activation='sigmoid')(x)\n",
    "print(den.shape)\n",
    "\n",
    "model = tf.keras.Model(inputs, den)\n",
    "\n",
    "# Instantiate an optimizer.\n",
    "optimizer = tf.keras.optimizers.Adam()\n",
    "# Instantiate a loss function.\n",
    "loss_fn = tf.keras.losses.BinaryCrossentropy()\n",
    "\n",
    "# Prepare the metrics.\n",
    "train_acc_metric = tf.keras.metrics.BinaryAccuracy()\n",
    "val_acc_metric = tf.keras.metrics.BinaryAccuracy()\n",
    "\n",
    "@tf.function\n",
    "def train_step(x, y):\n",
    "    with tf.GradientTape() as tape:\n",
    "        logits = model(x, training=True)\n",
    "        loss_value = loss_fn(y, logits)\n",
    "    grads = tape.gradient(loss_value, model.trainable_weights)\n",
    "    optimizer.apply_gradients(zip(grads, model.trainable_weights))\n",
    "    train_acc_metric.update_state(y, logits)\n",
    "    return loss_value\n",
    "\n",
    "@tf.function\n",
    "def test_step(x, y):\n",
    "    val_logits = model(x, training=False)\n",
    "    val_acc_metric.update_state(y, val_logits)\n",
    "\n",
    "epochs = 10\n",
    "for epoch in range(epochs):\n",
    "    print(\"\\nStart of epoch %d\" % (epoch,))\n",
    "    start_time = time.time()\n",
    "\n",
    "    # Iterate over the batches of the dataset.\n",
    "    for step, (x_batch_train, y_batch_train) in enumerate(train_dataset):\n",
    "        loss_value = train_step(x_batch_train, y_batch_train)\n",
    "\n",
    "        # Log every 400 batches.\n",
    "        if step % 400 == 0:\n",
    "            print(\n",
    "                \"Training loss (for one batch) at step %d: %.4f\"\n",
    "                % (step, float(loss_value))\n",
    "            )\n",
    "            print(\"Seen so far: %d samples\" % ((step + 1) * batch_size))\n",
    "\n",
    "    # Display metrics at the end of each epoch.\n",
    "    train_acc = train_acc_metric.result()\n",
    "    print(\"Training acc over epoch: %.4f\" % (float(train_acc),))\n",
    "\n",
    "    # Reset training metrics at the end of each epoch\n",
    "    train_acc_metric.reset_states()\n",
    "\n",
    "    # Run a validation loop at the end of each epoch.\n",
    "    for x_batch_val, y_batch_val in val_dataset:\n",
    "        test_step(x_batch_val, y_batch_val)\n",
    "\n",
    "    val_acc = val_acc_metric.result()\n",
    "    val_acc_metric.reset_states()\n",
    "    print(\"Validation acc: %.4f\" % (float(val_acc),))\n",
    "    print(\"Time taken: %.2fs\" % (time.time() - start_time))\n",
    "\n",
    "###################################################\n",
    "# END TODO                                        #\n",
    "###################################################"
   ]
  },
  {
   "cell_type": "markdown",
   "metadata": {},
   "source": [
    "### Findings\n",
    "\n",
    "Accuracies are almost similar after 10 epochs, but the network with embedding layer converges alot faster than the one with one hot encoding.\n",
    "\n",
    "Also, There is a huge difference between time taken for both and it is expected. For one hot encoding it took on an average 750 seconds for one epoch while embedding took 25 seconds so almost 25 times faster.\n",
    "\n",
    "While the accuracy did not change much, the training time reduced drastically. Learned embedding alone are useful in other applications. so, it's a plus point."
   ]
  },
  {
   "cell_type": "markdown",
   "metadata": {
    "id": "o9WYOKJtUwe5"
   },
   "source": [
    "## **TODO:**  **Visualize word vectors via tSNE**\n",
    "\n",
    "First, you need to retrieve embedding matrix from the network. Then use tSNE to reduce each low-dimensional word vector into a 2D vector.\n",
    "\n",
    "And then, you should visualize some interesting word pairs in 2D panel. You may find scatter function in matplotlib.pyplot useful.\n",
    "\n",
    "Hint: You can use TSNE tool provided in scikit-learn. And if you encounter dead kernel problem caused by \"Intel MKL FATAL ERROR: Cannot load libmkl_avx.so or libmkl_def.so\", please reinstall scikit-learn without MKL, ie., conda install nomkl numpy scipy scikit-learn numexpr.\n",
    "\n",
    "Here we provide some word pairs for you, like female-male or country-capital. And you can observe that these word-pair will look parallel with each other in a 2D tSNE panel. And you can find some other words and explore their relationship.\n",
    "\n",
    "The result for female-male pairs should look like, and you will observe that king-men and queen-women are parallel to each other in a 2D panel."
   ]
  },
  {
   "cell_type": "code",
   "execution_count": 23,
   "metadata": {
    "id": "aVZwhreIVlk0"
   },
   "outputs": [],
   "source": [
    "word_embeddings = model.layers[1].get_weights()[0]"
   ]
  },
  {
   "cell_type": "code",
   "execution_count": 24,
   "metadata": {},
   "outputs": [],
   "source": [
    "from sklearn.manifold import TSNE"
   ]
  },
  {
   "cell_type": "code",
   "execution_count": 32,
   "metadata": {},
   "outputs": [
    {
     "data": {
      "text/plain": [
       "(7597, 2)"
      ]
     },
     "execution_count": 32,
     "metadata": {},
     "output_type": "execute_result"
    }
   ],
   "source": [
    "X_embedded = TSNE(n_components=2, learning_rate='auto',\n",
    "                  init='random').fit_transform(word_embeddings)\n",
    "X_embedded.shape"
   ]
  },
  {
   "cell_type": "code",
   "execution_count": 61,
   "metadata": {},
   "outputs": [],
   "source": [
    "# plt.style.use(\"dark_background\")\n",
    "plt.style.use(\"seaborn\")"
   ]
  },
  {
   "cell_type": "code",
   "execution_count": 62,
   "metadata": {},
   "outputs": [
    {
     "data": {
      "image/png": "[encoded data removed]",
      "text/plain": [
       "<Figure size 576x396 with 1 Axes>"
      ]
     },
     "metadata": {},
     "output_type": "display_data"
    }
   ],
   "source": [
    "plt.plot(X_embedded[np.where(vocabulary == \"spain\")[0][0]], X_embedded[np.where(vocabulary == \"madrid\")[0][0]], label='spain - madrid')\n",
    "plt.plot(X_embedded[np.where(vocabulary == \"japan\")[0][0]], X_embedded[np.where(vocabulary == \"tokyo\")[0][0]], label='japan - tokyo')\n",
    "plt.title('2d embedding projection')\n",
    "plt.ylabel('x2')\n",
    "plt.xlabel('x1')\n",
    "plt.legend(loc=\"upper left\")\n",
    "plt.show()"
   ]
  },
  {
   "cell_type": "code",
   "execution_count": 63,
   "metadata": {},
   "outputs": [
    {
     "data": {
      "image/png": "[encoded data removed]",
      "text/plain": [
       "<Figure size 576x396 with 1 Axes>"
      ]
     },
     "metadata": {},
     "output_type": "display_data"
    }
   ],
   "source": [
    "plt.plot(X_embedded[np.where(vocabulary == \"men\")[0][0]], X_embedded[np.where(vocabulary == \"king\")[0][0]], label='men - king')\n",
    "plt.plot(X_embedded[np.where(vocabulary == \"women\")[0][0]], X_embedded[np.where(vocabulary == \"queen\")[0][0]], label='women - queen')\n",
    "plt.title('2d embedding projection')\n",
    "plt.ylabel('x2')\n",
    "plt.xlabel('x1')\n",
    "plt.legend(loc=\"upper left\")\n",
    "plt.show()"
   ]
  },
  {
   "cell_type": "code",
   "execution_count": 64,
   "metadata": {},
   "outputs": [
    {
     "data": {
      "image/png": "[encoded data removed]",
      "text/plain": [
       "<Figure size 576x396 with 1 Axes>"
      ]
     },
     "metadata": {},
     "output_type": "display_data"
    }
   ],
   "source": [
    "# Antonyms\n",
    "plt.plot(X_embedded[np.where(vocabulary == \"happy\")[0][0]], X_embedded[np.where(vocabulary == \"sad\")[0][0]], label='happy - sad')\n",
    "plt.plot(X_embedded[np.where(vocabulary == \"high\")[0][0]], X_embedded[np.where(vocabulary == \"low\")[0][0]], label='high - low')\n",
    "plt.title('2d embedding projection')\n",
    "plt.ylabel('x2')\n",
    "plt.xlabel('x1')\n",
    "plt.legend(loc=\"upper right\")\n",
    "plt.show()"
   ]
  },
  {
   "cell_type": "code",
   "execution_count": null,
   "metadata": {},
   "outputs": [],
   "source": []
  }
 ],
 "metadata": {
  "accelerator": "GPU",
  "colab": {
   "name": "Assignment_3_task_2_final.ipynb",
   "provenance": []
  },
  "kernelspec": {
   "display_name": "Python 3",
   "language": "python",
   "name": "python3"
  },
  "language_info": {
   "codemirror_mode": {
    "name": "ipython",
    "version": 3
   },
   "file_extension": ".py",
   "mimetype": "text/x-python",
   "name": "python",
   "nbconvert_exporter": "python",
   "pygments_lexer": "ipython3",
   "version": "3.7.10"
  }
 },
 "nbformat": 4,
 "nbformat_minor": 4
}
